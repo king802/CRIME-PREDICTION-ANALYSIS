{
 "cells": [
  {
   "cell_type": "code",
   "execution_count": 1,
   "metadata": {},
   "outputs": [
    {
     "name": "stdout",
     "output_type": "stream",
     "text": [
      "Populating the interactive namespace from numpy and matplotlib\n"
     ]
    }
   ],
   "source": [
    "%pylab inline\n",
    "import matplotlib.pyplot as pl\n",
    "import pandas as pd\n",
    "\n",
    "# Disable the annoying Future Warnings\n",
    "import warnings\n",
    "warnings.simplefilter(action='ignore', category=FutureWarning)\n",
    "\n",
    "# Import the dataset\n",
    "df = pd.read_csv('boston-crime.csv')"
   ]
  },
  {
   "cell_type": "code",
   "execution_count": 2,
   "metadata": {},
   "outputs": [
    {
     "data": {
      "text/html": [
       "<div>\n",
       "<style scoped>\n",
       "    .dataframe tbody tr th:only-of-type {\n",
       "        vertical-align: middle;\n",
       "    }\n",
       "\n",
       "    .dataframe tbody tr th {\n",
       "        vertical-align: top;\n",
       "    }\n",
       "\n",
       "    .dataframe thead th {\n",
       "        text-align: right;\n",
       "    }\n",
       "</style>\n",
       "<table border=\"1\" class=\"dataframe\">\n",
       "  <thead>\n",
       "    <tr style=\"text-align: right;\">\n",
       "      <th></th>\n",
       "      <th>Incident Number</th>\n",
       "      <th>Offense Type</th>\n",
       "      <th>Offense Description</th>\n",
       "      <th>District</th>\n",
       "      <th>Reporting Area</th>\n",
       "      <th>Shooting</th>\n",
       "      <th>Date</th>\n",
       "      <th>Year</th>\n",
       "      <th>Month</th>\n",
       "      <th>Day of Week</th>\n",
       "      <th>Hour</th>\n",
       "      <th>UCR Offense Level</th>\n",
       "      <th>Street</th>\n",
       "      <th>Latitude</th>\n",
       "      <th>Longitude</th>\n",
       "      <th>Coordinates</th>\n",
       "      <th>Is Dark</th>\n",
       "    </tr>\n",
       "  </thead>\n",
       "  <tbody>\n",
       "    <tr>\n",
       "      <th>0</th>\n",
       "      <td>I192060182</td>\n",
       "      <td>Motor Vehicle Accident Response</td>\n",
       "      <td>M/V - LEAVING SCENE - PROPERTY DAMAGE</td>\n",
       "      <td>South Boston</td>\n",
       "      <td>206</td>\n",
       "      <td>0</td>\n",
       "      <td>2019-08-02 21:59:00</td>\n",
       "      <td>2019</td>\n",
       "      <td>8</td>\n",
       "      <td>Friday</td>\n",
       "      <td>21</td>\n",
       "      <td>Part Three</td>\n",
       "      <td>SLEEPER ST</td>\n",
       "      <td>42.352175</td>\n",
       "      <td>-71.049134</td>\n",
       "      <td>(42.35217524, -71.04913425)</td>\n",
       "      <td>1</td>\n",
       "    </tr>\n",
       "    <tr>\n",
       "      <th>1</th>\n",
       "      <td>I192060181</td>\n",
       "      <td>Simple Assault</td>\n",
       "      <td>ASSAULT SIMPLE - BATTERY</td>\n",
       "      <td>South End</td>\n",
       "      <td>905</td>\n",
       "      <td>0</td>\n",
       "      <td>2019-08-02 21:15:00</td>\n",
       "      <td>2019</td>\n",
       "      <td>8</td>\n",
       "      <td>Friday</td>\n",
       "      <td>21</td>\n",
       "      <td>Part Two</td>\n",
       "      <td>E BROOKLINE ST</td>\n",
       "      <td>42.338696</td>\n",
       "      <td>-71.071399</td>\n",
       "      <td>(42.33869635, -71.07139879)</td>\n",
       "      <td>1</td>\n",
       "    </tr>\n",
       "    <tr>\n",
       "      <th>2</th>\n",
       "      <td>I192060181</td>\n",
       "      <td>Other</td>\n",
       "      <td>INTIMIDATING WITNESS</td>\n",
       "      <td>South End</td>\n",
       "      <td>905</td>\n",
       "      <td>0</td>\n",
       "      <td>2019-08-02 21:15:00</td>\n",
       "      <td>2019</td>\n",
       "      <td>8</td>\n",
       "      <td>Friday</td>\n",
       "      <td>21</td>\n",
       "      <td>Part Three</td>\n",
       "      <td>E BROOKLINE ST</td>\n",
       "      <td>42.338696</td>\n",
       "      <td>-71.071399</td>\n",
       "      <td>(42.33869635, -71.07139879)</td>\n",
       "      <td>1</td>\n",
       "    </tr>\n",
       "    <tr>\n",
       "      <th>3</th>\n",
       "      <td>I192060180</td>\n",
       "      <td>Simple Assault</td>\n",
       "      <td>ASSAULT SIMPLE - BATTERY</td>\n",
       "      <td>Mattapan</td>\n",
       "      <td>443</td>\n",
       "      <td>0</td>\n",
       "      <td>2019-08-02 20:44:00</td>\n",
       "      <td>2019</td>\n",
       "      <td>8</td>\n",
       "      <td>Friday</td>\n",
       "      <td>20</td>\n",
       "      <td>Part Two</td>\n",
       "      <td>STANDISH ST</td>\n",
       "      <td>42.295977</td>\n",
       "      <td>-71.079340</td>\n",
       "      <td>(42.29597658, -71.07933990)</td>\n",
       "      <td>1</td>\n",
       "    </tr>\n",
       "    <tr>\n",
       "      <th>4</th>\n",
       "      <td>I192060179</td>\n",
       "      <td>Vandalism</td>\n",
       "      <td>VANDALISM</td>\n",
       "      <td>Brighton</td>\n",
       "      <td>790</td>\n",
       "      <td>0</td>\n",
       "      <td>2019-08-02 20:51:00</td>\n",
       "      <td>2019</td>\n",
       "      <td>8</td>\n",
       "      <td>Friday</td>\n",
       "      <td>20</td>\n",
       "      <td>Part Two</td>\n",
       "      <td>BEACON ST</td>\n",
       "      <td>42.336267</td>\n",
       "      <td>-71.149503</td>\n",
       "      <td>(42.33626664, -71.14950271)</td>\n",
       "      <td>1</td>\n",
       "    </tr>\n",
       "  </tbody>\n",
       "</table>\n",
       "</div>"
      ],
      "text/plain": [
       "  Incident Number                     Offense Type  \\\n",
       "0      I192060182  Motor Vehicle Accident Response   \n",
       "1      I192060181                   Simple Assault   \n",
       "2      I192060181                            Other   \n",
       "3      I192060180                   Simple Assault   \n",
       "4      I192060179                        Vandalism   \n",
       "\n",
       "                     Offense Description      District Reporting Area  \\\n",
       "0  M/V - LEAVING SCENE - PROPERTY DAMAGE  South Boston            206   \n",
       "1               ASSAULT SIMPLE - BATTERY     South End            905   \n",
       "2                   INTIMIDATING WITNESS     South End            905   \n",
       "3               ASSAULT SIMPLE - BATTERY      Mattapan            443   \n",
       "4                              VANDALISM      Brighton            790   \n",
       "\n",
       "   Shooting                 Date  Year  Month Day of Week  Hour  \\\n",
       "0         0  2019-08-02 21:59:00  2019      8      Friday    21   \n",
       "1         0  2019-08-02 21:15:00  2019      8      Friday    21   \n",
       "2         0  2019-08-02 21:15:00  2019      8      Friday    21   \n",
       "3         0  2019-08-02 20:44:00  2019      8      Friday    20   \n",
       "4         0  2019-08-02 20:51:00  2019      8      Friday    20   \n",
       "\n",
       "  UCR Offense Level          Street   Latitude  Longitude  \\\n",
       "0        Part Three      SLEEPER ST  42.352175 -71.049134   \n",
       "1          Part Two  E BROOKLINE ST  42.338696 -71.071399   \n",
       "2        Part Three  E BROOKLINE ST  42.338696 -71.071399   \n",
       "3          Part Two     STANDISH ST  42.295977 -71.079340   \n",
       "4          Part Two       BEACON ST  42.336267 -71.149503   \n",
       "\n",
       "                   Coordinates  Is Dark  \n",
       "0  (42.35217524, -71.04913425)        1  \n",
       "1  (42.33869635, -71.07139879)        1  \n",
       "2  (42.33869635, -71.07139879)        1  \n",
       "3  (42.29597658, -71.07933990)        1  \n",
       "4  (42.33626664, -71.14950271)        1  "
      ]
     },
     "execution_count": 2,
     "metadata": {},
     "output_type": "execute_result"
    }
   ],
   "source": [
    "df.head()"
   ]
  },
  {
   "cell_type": "code",
   "execution_count": 3,
   "metadata": {},
   "outputs": [
    {
     "data": {
      "text/html": [
       "<div>\n",
       "<style scoped>\n",
       "    .dataframe tbody tr th:only-of-type {\n",
       "        vertical-align: middle;\n",
       "    }\n",
       "\n",
       "    .dataframe tbody tr th {\n",
       "        vertical-align: top;\n",
       "    }\n",
       "\n",
       "    .dataframe thead th {\n",
       "        text-align: right;\n",
       "    }\n",
       "</style>\n",
       "<table border=\"1\" class=\"dataframe\">\n",
       "  <thead>\n",
       "    <tr style=\"text-align: right;\">\n",
       "      <th></th>\n",
       "      <th>Incident Number</th>\n",
       "      <th>Offense Type</th>\n",
       "      <th>Offense Description</th>\n",
       "      <th>District</th>\n",
       "      <th>Reporting Area</th>\n",
       "      <th>Shooting</th>\n",
       "      <th>Date</th>\n",
       "      <th>Year</th>\n",
       "      <th>Month</th>\n",
       "      <th>Day of Week</th>\n",
       "      <th>Hour</th>\n",
       "      <th>UCR Offense Level</th>\n",
       "      <th>Street</th>\n",
       "      <th>Latitude</th>\n",
       "      <th>Longitude</th>\n",
       "      <th>Coordinates</th>\n",
       "      <th>Is Dark</th>\n",
       "    </tr>\n",
       "  </thead>\n",
       "  <tbody>\n",
       "    <tr>\n",
       "      <th>0</th>\n",
       "      <td>I192060182</td>\n",
       "      <td>43</td>\n",
       "      <td>155</td>\n",
       "      <td>8</td>\n",
       "      <td>120</td>\n",
       "      <td>0</td>\n",
       "      <td>2019-08-02 21:59:00</td>\n",
       "      <td>2019</td>\n",
       "      <td>8</td>\n",
       "      <td>0</td>\n",
       "      <td>21</td>\n",
       "      <td>2</td>\n",
       "      <td>4059</td>\n",
       "      <td>42.352175</td>\n",
       "      <td>-71.049134</td>\n",
       "      <td>(42.35217524, -71.04913425)</td>\n",
       "      <td>1</td>\n",
       "    </tr>\n",
       "    <tr>\n",
       "      <th>1</th>\n",
       "      <td>I192060181</td>\n",
       "      <td>61</td>\n",
       "      <td>20</td>\n",
       "      <td>9</td>\n",
       "      <td>819</td>\n",
       "      <td>0</td>\n",
       "      <td>2019-08-02 21:15:00</td>\n",
       "      <td>2019</td>\n",
       "      <td>8</td>\n",
       "      <td>0</td>\n",
       "      <td>21</td>\n",
       "      <td>3</td>\n",
       "      <td>1434</td>\n",
       "      <td>42.338696</td>\n",
       "      <td>-71.071399</td>\n",
       "      <td>(42.33869635, -71.07139879)</td>\n",
       "      <td>1</td>\n",
       "    </tr>\n",
       "    <tr>\n",
       "      <th>2</th>\n",
       "      <td>I192060181</td>\n",
       "      <td>46</td>\n",
       "      <td>121</td>\n",
       "      <td>9</td>\n",
       "      <td>819</td>\n",
       "      <td>0</td>\n",
       "      <td>2019-08-02 21:15:00</td>\n",
       "      <td>2019</td>\n",
       "      <td>8</td>\n",
       "      <td>0</td>\n",
       "      <td>21</td>\n",
       "      <td>2</td>\n",
       "      <td>1434</td>\n",
       "      <td>42.338696</td>\n",
       "      <td>-71.071399</td>\n",
       "      <td>(42.33869635, -71.07139879)</td>\n",
       "      <td>1</td>\n",
       "    </tr>\n",
       "    <tr>\n",
       "      <th>3</th>\n",
       "      <td>I192060180</td>\n",
       "      <td>61</td>\n",
       "      <td>20</td>\n",
       "      <td>6</td>\n",
       "      <td>382</td>\n",
       "      <td>0</td>\n",
       "      <td>2019-08-02 20:44:00</td>\n",
       "      <td>2019</td>\n",
       "      <td>8</td>\n",
       "      <td>0</td>\n",
       "      <td>20</td>\n",
       "      <td>3</td>\n",
       "      <td>4138</td>\n",
       "      <td>42.295977</td>\n",
       "      <td>-71.079340</td>\n",
       "      <td>(42.29597658, -71.07933990)</td>\n",
       "      <td>1</td>\n",
       "    </tr>\n",
       "    <tr>\n",
       "      <th>4</th>\n",
       "      <td>I192060179</td>\n",
       "      <td>63</td>\n",
       "      <td>230</td>\n",
       "      <td>0</td>\n",
       "      <td>765</td>\n",
       "      <td>0</td>\n",
       "      <td>2019-08-02 20:51:00</td>\n",
       "      <td>2019</td>\n",
       "      <td>8</td>\n",
       "      <td>0</td>\n",
       "      <td>20</td>\n",
       "      <td>3</td>\n",
       "      <td>398</td>\n",
       "      <td>42.336267</td>\n",
       "      <td>-71.149503</td>\n",
       "      <td>(42.33626664, -71.14950271)</td>\n",
       "      <td>1</td>\n",
       "    </tr>\n",
       "  </tbody>\n",
       "</table>\n",
       "</div>"
      ],
      "text/plain": [
       "  Incident Number  Offense Type  Offense Description  District  \\\n",
       "0      I192060182            43                  155         8   \n",
       "1      I192060181            61                   20         9   \n",
       "2      I192060181            46                  121         9   \n",
       "3      I192060180            61                   20         6   \n",
       "4      I192060179            63                  230         0   \n",
       "\n",
       "   Reporting Area  Shooting                 Date  Year  Month  Day of Week  \\\n",
       "0             120         0  2019-08-02 21:59:00  2019      8            0   \n",
       "1             819         0  2019-08-02 21:15:00  2019      8            0   \n",
       "2             819         0  2019-08-02 21:15:00  2019      8            0   \n",
       "3             382         0  2019-08-02 20:44:00  2019      8            0   \n",
       "4             765         0  2019-08-02 20:51:00  2019      8            0   \n",
       "\n",
       "   Hour  UCR Offense Level  Street   Latitude  Longitude  \\\n",
       "0    21                  2    4059  42.352175 -71.049134   \n",
       "1    21                  3    1434  42.338696 -71.071399   \n",
       "2    21                  2    1434  42.338696 -71.071399   \n",
       "3    20                  3    4138  42.295977 -71.079340   \n",
       "4    20                  3     398  42.336267 -71.149503   \n",
       "\n",
       "                   Coordinates  Is Dark  \n",
       "0  (42.35217524, -71.04913425)        1  \n",
       "1  (42.33869635, -71.07139879)        1  \n",
       "2  (42.33869635, -71.07139879)        1  \n",
       "3  (42.29597658, -71.07933990)        1  \n",
       "4  (42.33626664, -71.14950271)        1  "
      ]
     },
     "execution_count": 3,
     "metadata": {},
     "output_type": "execute_result"
    }
   ],
   "source": [
    "# Reference: https://www.kaggle.com/getting-started/27270\n",
    "# Numerically encoding features\n",
    "from sklearn.preprocessing import LabelEncoder\n",
    "\n",
    "df['Offense Type'] = LabelEncoder().fit_transform(df['Offense Type'])\n",
    "\n",
    "df['Offense Description'] = LabelEncoder().fit_transform(df['Offense Description'])\n",
    "\n",
    "df['District'] = LabelEncoder().fit_transform(df['District'].astype(str))\n",
    "df['District'] = LabelEncoder().fit_transform(df['District'])\n",
    "\n",
    "df['Reporting Area'] = LabelEncoder().fit_transform(df['Reporting Area'].astype(str))\n",
    "\n",
    "df['Day of Week'] = LabelEncoder().fit_transform(df['Day of Week'])\n",
    "\n",
    "df['UCR Offense Level'] = LabelEncoder().fit_transform(df['UCR Offense Level'].astype(str))\n",
    "df['UCR Offense Level'] = LabelEncoder().fit_transform(df['UCR Offense Level'])\n",
    "\n",
    "df['Street'] = LabelEncoder().fit_transform(df['Street'].astype(str))\n",
    "df['Street'] = LabelEncoder().fit_transform(df['Street'])\n",
    "df.head()"
   ]
  },
  {
   "cell_type": "code",
   "execution_count": 4,
   "metadata": {},
   "outputs": [
    {
     "data": {
      "text/plain": [
       "Incident Number         object\n",
       "Offense Type             int64\n",
       "Offense Description      int64\n",
       "District                 int64\n",
       "Reporting Area           int64\n",
       "Shooting                 int64\n",
       "Date                    object\n",
       "Year                     int64\n",
       "Month                    int64\n",
       "Day of Week              int64\n",
       "Hour                     int64\n",
       "UCR Offense Level        int64\n",
       "Street                   int64\n",
       "Latitude               float64\n",
       "Longitude              float64\n",
       "Coordinates             object\n",
       "Is Dark                  int64\n",
       "dtype: object"
      ]
     },
     "execution_count": 4,
     "metadata": {},
     "output_type": "execute_result"
    }
   ],
   "source": [
    "df.dtypes"
   ]
  },
  {
   "cell_type": "code",
   "execution_count": 5,
   "metadata": {},
   "outputs": [],
   "source": [
    "from sklearn.decomposition import PCA\n",
    "from sklearn.model_selection import train_test_split\n",
    "\n",
    "selected_df = df[['Offense Type', 'Offense Description', 'District', 'Reporting Area', 'Shooting', 'Year',\n",
    "                  'Month', 'Day of Week', 'Hour', 'Is Dark', 'Street', 'UCR Offense Level']]"
   ]
  },
  {
   "cell_type": "code",
   "execution_count": 6,
   "metadata": {},
   "outputs": [],
   "source": [
    "# Split the data and traget into training/testing sets\n",
    "X_train, X_test, Y_train, Y_test = train_test_split(selected_df[['Offense Type', 'Offense Description', \n",
    "                                                                 'District', 'Reporting Area', 'Month',\n",
    "                                                                 'Year', 'Shooting', 'Hour',\n",
    "                                                                 'Is Dark', 'Street', 'UCR Offense Level']].values,\n",
    "                                                    selected_df['Day of Week'].values,\n",
    "                                                    test_size=0.01)"
   ]
  },
  {
   "cell_type": "markdown",
   "metadata": {},
   "source": [
    "**Predicting Day of Week using Decision Tree Classifier**"
   ]
  },
  {
   "cell_type": "code",
   "execution_count": 7,
   "metadata": {},
   "outputs": [],
   "source": [
    "from sklearn import tree\n",
    "\n",
    "clf = tree.DecisionTreeClassifier()\n",
    "clf = clf.fit(X_train, Y_train)"
   ]
  },
  {
   "cell_type": "code",
   "execution_count": 8,
   "metadata": {},
   "outputs": [],
   "source": [
    "predictions = clf.predict(X_test)"
   ]
  },
  {
   "cell_type": "code",
   "execution_count": 9,
   "metadata": {},
   "outputs": [
    {
     "name": "stdout",
     "output_type": "stream",
     "text": [
      "Accuracy for predicting Day of Week (Decision Tree Classifier): 0.2092511013215859\n"
     ]
    }
   ],
   "source": [
    "from sklearn.metrics import accuracy_score\n",
    "accuracy = accuracy_score(Y_test, predictions)\n",
    "print('Accuracy for predicting Day of Week (Decision Tree Classifier):', accuracy)"
   ]
  },
  {
   "cell_type": "code",
   "execution_count": 10,
   "metadata": {},
   "outputs": [
    {
     "name": "stdout",
     "output_type": "stream",
     "text": [
      "              precision    recall  f1-score   support\n",
      "\n",
      "           0       0.20      0.21      0.20       612\n",
      "           1       0.20      0.21      0.20       585\n",
      "           2       0.19      0.19      0.19       593\n",
      "           3       0.21      0.21      0.21       508\n",
      "           4       0.22      0.21      0.21       579\n",
      "           5       0.23      0.21      0.22       615\n",
      "           6       0.23      0.23      0.23       594\n",
      "\n",
      "   micro avg       0.21      0.21      0.21      4086\n",
      "   macro avg       0.21      0.21      0.21      4086\n",
      "weighted avg       0.21      0.21      0.21      4086\n",
      "\n"
     ]
    }
   ],
   "source": [
    "from sklearn.metrics import classification_report\n",
    "\n",
    "classificationReport = classification_report(Y_test, predictions)\n",
    "print(classificationReport)"
   ]
  },
  {
   "cell_type": "markdown",
   "metadata": {},
   "source": [
    "**Predicting Day of Week using Extra Tree Classifier**"
   ]
  },
  {
   "cell_type": "code",
   "execution_count": 11,
   "metadata": {},
   "outputs": [],
   "source": [
    "clf = tree.ExtraTreeClassifier()\n",
    "clf = clf.fit(X_train, Y_train)"
   ]
  },
  {
   "cell_type": "code",
   "execution_count": 12,
   "metadata": {},
   "outputs": [],
   "source": [
    "predictions = clf.predict(X_test)"
   ]
  },
  {
   "cell_type": "code",
   "execution_count": 13,
   "metadata": {},
   "outputs": [
    {
     "name": "stdout",
     "output_type": "stream",
     "text": [
      "Accuracy for predicting Day of Week (Extra Tree Classifier): 0.1960352422907489\n"
     ]
    }
   ],
   "source": [
    "accuracy = accuracy_score(Y_test, predictions)\n",
    "print('Accuracy for predicting Day of Week (Extra Tree Classifier):', accuracy)"
   ]
  },
  {
   "cell_type": "code",
   "execution_count": 14,
   "metadata": {},
   "outputs": [
    {
     "name": "stdout",
     "output_type": "stream",
     "text": [
      "              precision    recall  f1-score   support\n",
      "\n",
      "           0       0.19      0.19      0.19       612\n",
      "           1       0.18      0.18      0.18       585\n",
      "           2       0.19      0.19      0.19       593\n",
      "           3       0.19      0.18      0.19       508\n",
      "           4       0.21      0.21      0.21       579\n",
      "           5       0.20      0.19      0.20       615\n",
      "           6       0.21      0.22      0.22       594\n",
      "\n",
      "   micro avg       0.20      0.20      0.20      4086\n",
      "   macro avg       0.20      0.20      0.20      4086\n",
      "weighted avg       0.20      0.20      0.20      4086\n",
      "\n"
     ]
    }
   ],
   "source": [
    "classificationReport = classification_report(Y_test, predictions)\n",
    "print(classificationReport)"
   ]
  },
  {
   "cell_type": "markdown",
   "metadata": {},
   "source": [
    "**Predicting Day of Week using Random Forest Classifier**"
   ]
  },
  {
   "cell_type": "code",
   "execution_count": 15,
   "metadata": {},
   "outputs": [
    {
     "data": {
      "text/plain": [
       "RandomForestClassifier(bootstrap=True, class_weight=None, criterion='gini',\n",
       "            max_depth=None, max_features='auto', max_leaf_nodes=None,\n",
       "            min_impurity_decrease=0.0, min_impurity_split=None,\n",
       "            min_samples_leaf=1, min_samples_split=2,\n",
       "            min_weight_fraction_leaf=0.0, n_estimators=10, n_jobs=None,\n",
       "            oob_score=False, random_state=None, verbose=0,\n",
       "            warm_start=False)"
      ]
     },
     "execution_count": 15,
     "metadata": {},
     "output_type": "execute_result"
    }
   ],
   "source": [
    "from sklearn.ensemble import RandomForestClassifier\n",
    "clf = RandomForestClassifier()\n",
    "clf.fit(X_train, Y_train)"
   ]
  },
  {
   "cell_type": "code",
   "execution_count": 16,
   "metadata": {},
   "outputs": [],
   "source": [
    "predictions = clf.predict(X_test)"
   ]
  },
  {
   "cell_type": "code",
   "execution_count": 17,
   "metadata": {},
   "outputs": [
    {
     "name": "stdout",
     "output_type": "stream",
     "text": [
      "Accuracy for predicting Day of Week (Random Forest Classifier): 0.20215369554576604\n"
     ]
    }
   ],
   "source": [
    "accuracy = accuracy_score(Y_test, predictions)\n",
    "print('Accuracy for predicting Day of Week (Random Forest Classifier):', accuracy)"
   ]
  },
  {
   "cell_type": "code",
   "execution_count": 18,
   "metadata": {},
   "outputs": [
    {
     "name": "stdout",
     "output_type": "stream",
     "text": [
      "              precision    recall  f1-score   support\n",
      "\n",
      "           0       0.21      0.30      0.24       612\n",
      "           1       0.18      0.21      0.19       585\n",
      "           2       0.21      0.19      0.20       593\n",
      "           3       0.18      0.16      0.17       508\n",
      "           4       0.20      0.20      0.20       579\n",
      "           5       0.21      0.17      0.19       615\n",
      "           6       0.23      0.18      0.20       594\n",
      "\n",
      "   micro avg       0.20      0.20      0.20      4086\n",
      "   macro avg       0.20      0.20      0.20      4086\n",
      "weighted avg       0.20      0.20      0.20      4086\n",
      "\n"
     ]
    }
   ],
   "source": [
    "classificationReport = classification_report(Y_test, predictions)\n",
    "print(classificationReport)"
   ]
  },
  {
   "cell_type": "markdown",
   "metadata": {},
   "source": [
    "**Predicting Day of Week using K-Nearest Neighbour Classifier** "
   ]
  },
  {
   "cell_type": "code",
   "execution_count": 19,
   "metadata": {},
   "outputs": [
    {
     "data": {
      "text/plain": [
       "KNeighborsClassifier(algorithm='auto', leaf_size=30, metric='minkowski',\n",
       "           metric_params=None, n_jobs=None, n_neighbors=5, p=2,\n",
       "           weights='uniform')"
      ]
     },
     "execution_count": 19,
     "metadata": {},
     "output_type": "execute_result"
    }
   ],
   "source": [
    "from sklearn.neighbors import KNeighborsClassifier\n",
    "clf = KNeighborsClassifier()\n",
    "clf.fit(X_train, Y_train)"
   ]
  },
  {
   "cell_type": "code",
   "execution_count": 20,
   "metadata": {},
   "outputs": [],
   "source": [
    "predictions = clf.predict(X_test)"
   ]
  },
  {
   "cell_type": "code",
   "execution_count": 21,
   "metadata": {},
   "outputs": [
    {
     "name": "stdout",
     "output_type": "stream",
     "text": [
      "Accuracy for predicting Day of Week (K-Nearest Classifier): 0.16495349975526186\n"
     ]
    }
   ],
   "source": [
    "accuracy = accuracy_score(Y_test, predictions)\n",
    "print('Accuracy for predicting Day of Week (K-Nearest Classifier):', accuracy)"
   ]
  },
  {
   "cell_type": "code",
   "execution_count": 22,
   "metadata": {},
   "outputs": [
    {
     "name": "stdout",
     "output_type": "stream",
     "text": [
      "              precision    recall  f1-score   support\n",
      "\n",
      "           0       0.15      0.26      0.19       612\n",
      "           1       0.17      0.19      0.18       585\n",
      "           2       0.18      0.16      0.17       593\n",
      "           3       0.16      0.14      0.15       508\n",
      "           4       0.15      0.13      0.14       579\n",
      "           5       0.18      0.14      0.16       615\n",
      "           6       0.18      0.12      0.15       594\n",
      "\n",
      "   micro avg       0.16      0.16      0.16      4086\n",
      "   macro avg       0.17      0.16      0.16      4086\n",
      "weighted avg       0.17      0.16      0.16      4086\n",
      "\n"
     ]
    }
   ],
   "source": [
    "classificationReport = classification_report(Y_test, predictions)\n",
    "print(classificationReport)"
   ]
  },
  {
   "cell_type": "markdown",
   "metadata": {},
   "source": [
    "**Predicting Day of Week using Gaussian Naive Bayes**"
   ]
  },
  {
   "cell_type": "code",
   "execution_count": 23,
   "metadata": {},
   "outputs": [
    {
     "data": {
      "text/plain": [
       "GaussianNB(priors=None, var_smoothing=1e-09)"
      ]
     },
     "execution_count": 23,
     "metadata": {},
     "output_type": "execute_result"
    }
   ],
   "source": [
    "from sklearn.naive_bayes import GaussianNB\n",
    "clf = GaussianNB()\n",
    "clf.fit(X_train, Y_train)"
   ]
  },
  {
   "cell_type": "code",
   "execution_count": 24,
   "metadata": {},
   "outputs": [],
   "source": [
    "predictions = clf.predict(X_test)"
   ]
  },
  {
   "cell_type": "code",
   "execution_count": 25,
   "metadata": {},
   "outputs": [
    {
     "name": "stdout",
     "output_type": "stream",
     "text": [
      "Accuracy for predicting Day of Week (Gaussian Naive Bayes): 0.16226138032305434\n"
     ]
    }
   ],
   "source": [
    "accuracy = accuracy_score(Y_test, predictions)\n",
    "print('Accuracy for predicting Day of Week (Gaussian Naive Bayes):', accuracy)"
   ]
  },
  {
   "cell_type": "code",
   "execution_count": 26,
   "metadata": {},
   "outputs": [
    {
     "name": "stdout",
     "output_type": "stream",
     "text": [
      "              precision    recall  f1-score   support\n",
      "\n",
      "           0       0.14      0.22      0.17       612\n",
      "           1       0.06      0.00      0.00       585\n",
      "           2       0.20      0.02      0.03       593\n",
      "           3       0.17      0.17      0.17       508\n",
      "           4       0.23      0.01      0.02       579\n",
      "           5       0.17      0.26      0.20       615\n",
      "           6       0.17      0.44      0.24       594\n",
      "\n",
      "   micro avg       0.16      0.16      0.16      4086\n",
      "   macro avg       0.16      0.16      0.12      4086\n",
      "weighted avg       0.16      0.16      0.12      4086\n",
      "\n"
     ]
    }
   ],
   "source": [
    "classificationReport = classification_report(Y_test, predictions)\n",
    "print(classificationReport)"
   ]
  },
  {
   "cell_type": "markdown",
   "metadata": {},
   "source": [
    "**Predicting Shooting using Decision Tree Classifier**"
   ]
  },
  {
   "cell_type": "code",
   "execution_count": 27,
   "metadata": {},
   "outputs": [],
   "source": [
    "# Split the data and traget into training/testing sets\n",
    "X_train, X_test, Y_train, Y_test = train_test_split(selected_df[['Offense Type', 'Offense Description', \n",
    "                                                                 'District', 'Reporting Area', 'Month',\n",
    "                                                                 'Year', 'Day of Week', 'Hour',\n",
    "                                                                 'Is Dark', 'Street', 'UCR Offense Level']].values,\n",
    "                                                    selected_df['Shooting'].values,\n",
    "                                                    test_size=0.05)"
   ]
  },
  {
   "cell_type": "code",
   "execution_count": 28,
   "metadata": {},
   "outputs": [],
   "source": [
    "clf = tree.DecisionTreeClassifier()\n",
    "clf = clf.fit(X_train, Y_train)"
   ]
  },
  {
   "cell_type": "code",
   "execution_count": 29,
   "metadata": {},
   "outputs": [],
   "source": [
    "predictions = clf.predict(X_test)"
   ]
  },
  {
   "cell_type": "code",
   "execution_count": 30,
   "metadata": {},
   "outputs": [
    {
     "name": "stdout",
     "output_type": "stream",
     "text": [
      "Accuracy for predicting Shooting (Decision Tree Classifier): 0.9946147067463037\n"
     ]
    }
   ],
   "source": [
    "accuracy = accuracy_score(Y_test, predictions)\n",
    "print('Accuracy for predicting Shooting (Decision Tree Classifier):', accuracy)"
   ]
  },
  {
   "cell_type": "code",
   "execution_count": 31,
   "metadata": {},
   "outputs": [
    {
     "name": "stdout",
     "output_type": "stream",
     "text": [
      "              precision    recall  f1-score   support\n",
      "\n",
      "           0       1.00      1.00      1.00     20357\n",
      "           1       0.22      0.23      0.23        69\n",
      "\n",
      "   micro avg       0.99      0.99      0.99     20426\n",
      "   macro avg       0.61      0.61      0.61     20426\n",
      "weighted avg       0.99      0.99      0.99     20426\n",
      "\n"
     ]
    }
   ],
   "source": [
    "classificationReport = classification_report(Y_test, predictions)\n",
    "print(classificationReport)"
   ]
  },
  {
   "cell_type": "markdown",
   "metadata": {},
   "source": [
    "**Predicting Shooting using Extra Tree Classifier**"
   ]
  },
  {
   "cell_type": "code",
   "execution_count": 32,
   "metadata": {},
   "outputs": [],
   "source": [
    "clf = tree.ExtraTreeClassifier()\n",
    "clf = clf.fit(X_train, Y_train)"
   ]
  },
  {
   "cell_type": "code",
   "execution_count": 33,
   "metadata": {},
   "outputs": [],
   "source": [
    "predictions = clf.predict(X_test)"
   ]
  },
  {
   "cell_type": "code",
   "execution_count": 34,
   "metadata": {},
   "outputs": [
    {
     "name": "stdout",
     "output_type": "stream",
     "text": [
      "Accuracy for predicting Shooting (Extra Tree Classifier): 0.9950063644374817\n"
     ]
    }
   ],
   "source": [
    "accuracy = accuracy_score(Y_test, predictions)\n",
    "print('Accuracy for predicting Shooting (Extra Tree Classifier):', accuracy)"
   ]
  },
  {
   "cell_type": "code",
   "execution_count": 35,
   "metadata": {},
   "outputs": [
    {
     "name": "stdout",
     "output_type": "stream",
     "text": [
      "              precision    recall  f1-score   support\n",
      "\n",
      "           0       1.00      1.00      1.00     20357\n",
      "           1       0.19      0.14      0.16        69\n",
      "\n",
      "   micro avg       1.00      1.00      1.00     20426\n",
      "   macro avg       0.59      0.57      0.58     20426\n",
      "weighted avg       0.99      1.00      0.99     20426\n",
      "\n"
     ]
    }
   ],
   "source": [
    "classificationReport = classification_report(Y_test, predictions)\n",
    "print(classificationReport)"
   ]
  },
  {
   "cell_type": "markdown",
   "metadata": {},
   "source": [
    "**Predicting Shooting using Random Forest Classifier**"
   ]
  },
  {
   "cell_type": "code",
   "execution_count": 36,
   "metadata": {},
   "outputs": [
    {
     "data": {
      "text/plain": [
       "RandomForestClassifier(bootstrap=True, class_weight=None, criterion='gini',\n",
       "            max_depth=None, max_features='auto', max_leaf_nodes=None,\n",
       "            min_impurity_decrease=0.0, min_impurity_split=None,\n",
       "            min_samples_leaf=1, min_samples_split=2,\n",
       "            min_weight_fraction_leaf=0.0, n_estimators=10, n_jobs=None,\n",
       "            oob_score=False, random_state=None, verbose=0,\n",
       "            warm_start=False)"
      ]
     },
     "execution_count": 36,
     "metadata": {},
     "output_type": "execute_result"
    }
   ],
   "source": [
    "clf = RandomForestClassifier()\n",
    "clf.fit(X_train, Y_train)"
   ]
  },
  {
   "cell_type": "code",
   "execution_count": 37,
   "metadata": {},
   "outputs": [],
   "source": [
    "predictions = clf.predict(X_test)"
   ]
  },
  {
   "cell_type": "code",
   "execution_count": 38,
   "metadata": {},
   "outputs": [
    {
     "name": "stdout",
     "output_type": "stream",
     "text": [
      "Accuracy for predicting Shooting (Random Forest Classifier): 0.9969156956819739\n"
     ]
    }
   ],
   "source": [
    "accuracy = accuracy_score(Y_test, predictions)\n",
    "print('Accuracy for predicting Shooting (Random Forest Classifier):', accuracy)"
   ]
  },
  {
   "cell_type": "code",
   "execution_count": 39,
   "metadata": {},
   "outputs": [
    {
     "name": "stdout",
     "output_type": "stream",
     "text": [
      "              precision    recall  f1-score   support\n",
      "\n",
      "           0       1.00      1.00      1.00     20357\n",
      "           1       0.67      0.17      0.28        69\n",
      "\n",
      "   micro avg       1.00      1.00      1.00     20426\n",
      "   macro avg       0.83      0.59      0.64     20426\n",
      "weighted avg       1.00      1.00      1.00     20426\n",
      "\n"
     ]
    }
   ],
   "source": [
    "classificationReport = classification_report(Y_test, predictions)\n",
    "print(classificationReport)"
   ]
  },
  {
   "cell_type": "markdown",
   "metadata": {},
   "source": [
    "**Prediciting Shooting using K-Nearest Neighbour Classifier**"
   ]
  },
  {
   "cell_type": "code",
   "execution_count": 40,
   "metadata": {},
   "outputs": [
    {
     "data": {
      "text/plain": [
       "KNeighborsClassifier(algorithm='auto', leaf_size=30, metric='minkowski',\n",
       "           metric_params=None, n_jobs=None, n_neighbors=5, p=2,\n",
       "           weights='uniform')"
      ]
     },
     "execution_count": 40,
     "metadata": {},
     "output_type": "execute_result"
    }
   ],
   "source": [
    "clf = KNeighborsClassifier()\n",
    "clf.fit(X_train, Y_train)"
   ]
  },
  {
   "cell_type": "code",
   "execution_count": 41,
   "metadata": {},
   "outputs": [],
   "source": [
    "predictions = clf.predict(X_test)"
   ]
  },
  {
   "cell_type": "code",
   "execution_count": 42,
   "metadata": {},
   "outputs": [
    {
     "name": "stdout",
     "output_type": "stream",
     "text": [
      "Accuracy for predicting Shooting (K-Nearest Neighbour Classifier): 0.996524037990796\n"
     ]
    }
   ],
   "source": [
    "accuracy = accuracy_score(Y_test, predictions)\n",
    "print('Accuracy for predicting Shooting (K-Nearest Neighbour Classifier):', accuracy)"
   ]
  },
  {
   "cell_type": "markdown",
   "metadata": {},
   "source": [
    "**Predicting Shooting using Gaussian Naive Bayes**"
   ]
  },
  {
   "cell_type": "code",
   "execution_count": 43,
   "metadata": {},
   "outputs": [
    {
     "data": {
      "text/plain": [
       "GaussianNB(priors=None, var_smoothing=1e-09)"
      ]
     },
     "execution_count": 43,
     "metadata": {},
     "output_type": "execute_result"
    }
   ],
   "source": [
    "clf = GaussianNB()\n",
    "clf.fit(X_train, Y_train)"
   ]
  },
  {
   "cell_type": "code",
   "execution_count": 44,
   "metadata": {},
   "outputs": [],
   "source": [
    "predictions = clf.predict(X_test)"
   ]
  },
  {
   "cell_type": "code",
   "execution_count": 45,
   "metadata": {},
   "outputs": [
    {
     "name": "stdout",
     "output_type": "stream",
     "text": [
      "Accuracy for predicting Shooting (Gaussian Naive Bayes): 0.9950553216488789\n"
     ]
    }
   ],
   "source": [
    "accuracy = accuracy_score(Y_test, predictions)\n",
    "print('Accuracy for predicting Shooting (Gaussian Naive Bayes):', accuracy)"
   ]
  },
  {
   "cell_type": "code",
   "execution_count": 46,
   "metadata": {},
   "outputs": [
    {
     "name": "stdout",
     "output_type": "stream",
     "text": [
      "              precision    recall  f1-score   support\n",
      "\n",
      "           0       1.00      1.00      1.00     20357\n",
      "           1       0.14      0.09      0.11        69\n",
      "\n",
      "   micro avg       1.00      1.00      1.00     20426\n",
      "   macro avg       0.57      0.54      0.55     20426\n",
      "weighted avg       0.99      1.00      0.99     20426\n",
      "\n"
     ]
    }
   ],
   "source": [
    "classificationReport = classification_report(Y_test, predictions)\n",
    "print(classificationReport)"
   ]
  },
  {
   "cell_type": "markdown",
   "metadata": {},
   "source": [
    "**Predicting Offense Type using Decision Tree Classifier**"
   ]
  },
  {
   "cell_type": "code",
   "execution_count": 47,
   "metadata": {},
   "outputs": [],
   "source": [
    "# Split the data and traget into training/testing sets\n",
    "X_train, X_test, Y_train, Y_test = train_test_split(selected_df[['Offense Description', 'Day of Week',\n",
    "                                                                 'District', 'Reporting Area', 'Month',\n",
    "                                                                 'Year', 'Shooting', 'Hour',\n",
    "                                                                 'Street', 'UCR Offense Level']].values,\n",
    "                                                    selected_df['Offense Type'].values,\n",
    "                                                    test_size=0.01)"
   ]
  },
  {
   "cell_type": "code",
   "execution_count": 48,
   "metadata": {},
   "outputs": [
    {
     "name": "stdout",
     "output_type": "stream",
     "text": [
      "Accuracy for predicting Offense Type (Decision Tree Classifier): 1.0\n"
     ]
    }
   ],
   "source": [
    "clf = tree.DecisionTreeClassifier()\n",
    "clf = clf.fit(X_train, Y_train)\n",
    "predictions = clf.predict(X_test)\n",
    "accuracy = accuracy_score(Y_test, predictions)\n",
    "print('Accuracy for predicting Offense Type (Decision Tree Classifier):', accuracy)"
   ]
  },
  {
   "cell_type": "code",
   "execution_count": 49,
   "metadata": {},
   "outputs": [
    {
     "name": "stdout",
     "output_type": "stream",
     "text": [
      "              precision    recall  f1-score   support\n",
      "\n",
      "           0       1.00      1.00      1.00        96\n",
      "           3       1.00      1.00      1.00         7\n",
      "           4       1.00      1.00      1.00        71\n",
      "           5       1.00      1.00      1.00         9\n",
      "           6       1.00      1.00      1.00        15\n",
      "          10       1.00      1.00      1.00        11\n",
      "          11       1.00      1.00      1.00        43\n",
      "          12       1.00      1.00      1.00        12\n",
      "          13       1.00      1.00      1.00         2\n",
      "          14       1.00      1.00      1.00        29\n",
      "          15       1.00      1.00      1.00       220\n",
      "          16       1.00      1.00      1.00         6\n",
      "          17       1.00      1.00      1.00         6\n",
      "          19       1.00      1.00      1.00        33\n",
      "          20       1.00      1.00      1.00        10\n",
      "          21       1.00      1.00      1.00        26\n",
      "          22       1.00      1.00      1.00        94\n",
      "          24       1.00      1.00      1.00         2\n",
      "          27       1.00      1.00      1.00        44\n",
      "          28       1.00      1.00      1.00         5\n",
      "          31       1.00      1.00      1.00       244\n",
      "          32       1.00      1.00      1.00       134\n",
      "          33       1.00      1.00      1.00         9\n",
      "          34       1.00      1.00      1.00       316\n",
      "          35       1.00      1.00      1.00       150\n",
      "          36       1.00      1.00      1.00         7\n",
      "          37       1.00      1.00      1.00        21\n",
      "          38       1.00      1.00      1.00        14\n",
      "          40       1.00      1.00      1.00       331\n",
      "          41       1.00      1.00      1.00        63\n",
      "          42       1.00      1.00      1.00        42\n",
      "          43       1.00      1.00      1.00       497\n",
      "          44       1.00      1.00      1.00         5\n",
      "          45       1.00      1.00      1.00         7\n",
      "          46       1.00      1.00      1.00       236\n",
      "          47       1.00      1.00      1.00         5\n",
      "          49       1.00      1.00      1.00        31\n",
      "          50       1.00      1.00      1.00         5\n",
      "          51       1.00      1.00      1.00        43\n",
      "          52       1.00      1.00      1.00       124\n",
      "          53       1.00      1.00      1.00        17\n",
      "          54       1.00      1.00      1.00         1\n",
      "          55       1.00      1.00      1.00        11\n",
      "          56       1.00      1.00      1.00        67\n",
      "          57       1.00      1.00      1.00        23\n",
      "          58       1.00      1.00      1.00        54\n",
      "          59       1.00      1.00      1.00        17\n",
      "          60       1.00      1.00      1.00         4\n",
      "          61       1.00      1.00      1.00       168\n",
      "          62       1.00      1.00      1.00       113\n",
      "          63       1.00      1.00      1.00       204\n",
      "          64       1.00      1.00      1.00       205\n",
      "          65       1.00      1.00      1.00        74\n",
      "          66       1.00      1.00      1.00       103\n",
      "\n",
      "   micro avg       1.00      1.00      1.00      4086\n",
      "   macro avg       1.00      1.00      1.00      4086\n",
      "weighted avg       1.00      1.00      1.00      4086\n",
      "\n"
     ]
    }
   ],
   "source": [
    "classificationReport = classification_report(Y_test, predictions)\n",
    "print(classificationReport)"
   ]
  },
  {
   "cell_type": "markdown",
   "metadata": {},
   "source": [
    "**Prediciting Offense Type using Extra Tree Classifier**"
   ]
  },
  {
   "cell_type": "code",
   "execution_count": 50,
   "metadata": {},
   "outputs": [
    {
     "name": "stdout",
     "output_type": "stream",
     "text": [
      "Accuracy for predicting Offense Type (Extra Tree Classifier): 0.8595203132648067\n"
     ]
    }
   ],
   "source": [
    "clf = tree.ExtraTreeClassifier()\n",
    "clf = clf.fit(X_train, Y_train)\n",
    "predictions = clf.predict(X_test)\n",
    "accuracy = accuracy_score(Y_test, predictions)\n",
    "print('Accuracy for predicting Offense Type (Extra Tree Classifier):', accuracy)"
   ]
  },
  {
   "cell_type": "code",
   "execution_count": 51,
   "metadata": {},
   "outputs": [
    {
     "name": "stdout",
     "output_type": "stream",
     "text": [
      "              precision    recall  f1-score   support\n",
      "\n",
      "           0       0.88      0.93      0.90        96\n",
      "           2       0.00      0.00      0.00         0\n",
      "           3       0.58      1.00      0.74         7\n",
      "           4       0.92      0.82      0.87        71\n",
      "           5       0.82      1.00      0.90         9\n",
      "           6       0.93      0.87      0.90        15\n",
      "           8       0.00      0.00      0.00         0\n",
      "          10       1.00      0.82      0.90        11\n",
      "          11       0.75      0.63      0.68        43\n",
      "          12       0.69      0.75      0.72        12\n",
      "          13       0.33      0.50      0.40         2\n",
      "          14       0.82      0.79      0.81        29\n",
      "          15       0.94      0.97      0.96       220\n",
      "          16       0.60      0.50      0.55         6\n",
      "          17       0.50      0.67      0.57         6\n",
      "          19       0.91      0.94      0.93        33\n",
      "          20       0.88      0.70      0.78        10\n",
      "          21       0.79      0.85      0.81        26\n",
      "          22       0.82      0.84      0.83        94\n",
      "          24       0.67      1.00      0.80         2\n",
      "          27       0.97      0.89      0.93        44\n",
      "          28       0.80      0.80      0.80         5\n",
      "          31       0.91      0.91      0.91       244\n",
      "          32       0.87      0.89      0.88       134\n",
      "          33       0.64      0.78      0.70         9\n",
      "          34       0.88      0.89      0.88       316\n",
      "          35       0.77      0.78      0.77       150\n",
      "          36       0.33      0.29      0.31         7\n",
      "          37       0.85      0.81      0.83        21\n",
      "          38       1.00      0.86      0.92        14\n",
      "          40       0.92      0.91      0.91       331\n",
      "          41       0.56      0.59      0.57        63\n",
      "          42       0.40      0.43      0.41        42\n",
      "          43       0.95      0.93      0.94       497\n",
      "          44       0.67      0.80      0.73         5\n",
      "          45       0.57      0.57      0.57         7\n",
      "          46       0.82      0.78      0.80       236\n",
      "          47       0.60      0.60      0.60         5\n",
      "          48       0.00      0.00      0.00         0\n",
      "          49       0.67      0.77      0.72        31\n",
      "          50       0.57      0.80      0.67         5\n",
      "          51       0.50      0.60      0.55        43\n",
      "          52       0.79      0.77      0.78       124\n",
      "          53       0.57      0.24      0.33        17\n",
      "          54       1.00      1.00      1.00         1\n",
      "          55       0.92      1.00      0.96        11\n",
      "          56       0.93      0.93      0.93        67\n",
      "          57       0.65      0.57      0.60        23\n",
      "          58       0.96      0.96      0.96        54\n",
      "          59       0.67      0.71      0.69        17\n",
      "          60       0.67      0.50      0.57         4\n",
      "          61       0.97      0.96      0.97       168\n",
      "          62       0.79      0.86      0.82       113\n",
      "          63       0.92      0.87      0.89       204\n",
      "          64       0.95      0.90      0.92       205\n",
      "          65       0.65      0.81      0.72        74\n",
      "          66       0.85      0.87      0.86       103\n",
      "\n",
      "   micro avg       0.86      0.86      0.86      4086\n",
      "   macro avg       0.73      0.74      0.73      4086\n",
      "weighted avg       0.86      0.86      0.86      4086\n",
      "\n"
     ]
    },
    {
     "name": "stderr",
     "output_type": "stream",
     "text": [
      "/anaconda3/lib/python3.7/site-packages/sklearn/metrics/classification.py:1145: UndefinedMetricWarning: Recall and F-score are ill-defined and being set to 0.0 in labels with no true samples.\n",
      "  'recall', 'true', average, warn_for)\n"
     ]
    }
   ],
   "source": [
    "classificationReport = classification_report(Y_test, predictions)\n",
    "print(classificationReport)"
   ]
  },
  {
   "cell_type": "markdown",
   "metadata": {},
   "source": [
    "**Predicting Offense Type using Random Forest Classifier**"
   ]
  },
  {
   "cell_type": "code",
   "execution_count": 52,
   "metadata": {},
   "outputs": [
    {
     "name": "stdout",
     "output_type": "stream",
     "text": [
      "Accuracy for predicting Offense Type (Random Forest Classifier): 0.9843367596671562\n"
     ]
    }
   ],
   "source": [
    "clf = RandomForestClassifier()\n",
    "clf.fit(X_train, Y_train)\n",
    "predictions = clf.predict(X_test)\n",
    "accuracy = accuracy_score(Y_test, predictions)\n",
    "print('Accuracy for predicting Offense Type (Random Forest Classifier):', accuracy)"
   ]
  },
  {
   "cell_type": "code",
   "execution_count": 53,
   "metadata": {},
   "outputs": [
    {
     "name": "stdout",
     "output_type": "stream",
     "text": [
      "              precision    recall  f1-score   support\n",
      "\n",
      "           0       1.00      1.00      1.00        96\n",
      "           3       1.00      1.00      1.00         7\n",
      "           4       0.99      1.00      0.99        71\n",
      "           5       1.00      1.00      1.00         9\n",
      "           6       0.94      1.00      0.97        15\n",
      "          10       0.91      0.91      0.91        11\n",
      "          11       0.98      1.00      0.99        43\n",
      "          12       0.92      1.00      0.96        12\n",
      "          13       0.00      0.00      0.00         2\n",
      "          14       0.94      1.00      0.97        29\n",
      "          15       1.00      1.00      1.00       220\n",
      "          16       1.00      0.67      0.80         6\n",
      "          17       0.62      0.83      0.71         6\n",
      "          19       0.86      0.97      0.91        33\n",
      "          20       0.75      0.60      0.67        10\n",
      "          21       0.96      1.00      0.98        26\n",
      "          22       0.96      1.00      0.98        94\n",
      "          24       1.00      1.00      1.00         2\n",
      "          27       1.00      0.98      0.99        44\n",
      "          28       0.83      1.00      0.91         5\n",
      "          31       1.00      1.00      1.00       244\n",
      "          32       1.00      1.00      1.00       134\n",
      "          33       1.00      1.00      1.00         9\n",
      "          34       1.00      1.00      1.00       316\n",
      "          35       1.00      0.99      1.00       150\n",
      "          36       1.00      0.43      0.60         7\n",
      "          37       1.00      1.00      1.00        21\n",
      "          38       1.00      1.00      1.00        14\n",
      "          40       0.99      0.99      0.99       331\n",
      "          41       0.88      0.95      0.92        63\n",
      "          42       0.88      0.88      0.88        42\n",
      "          43       1.00      1.00      1.00       497\n",
      "          44       1.00      0.80      0.89         5\n",
      "          45       1.00      0.71      0.83         7\n",
      "          46       0.98      0.95      0.96       236\n",
      "          47       1.00      0.80      0.89         5\n",
      "          49       0.91      1.00      0.95        31\n",
      "          50       1.00      0.40      0.57         5\n",
      "          51       0.89      0.93      0.91        43\n",
      "          52       0.95      0.99      0.97       124\n",
      "          53       1.00      0.76      0.87        17\n",
      "          54       1.00      1.00      1.00         1\n",
      "          55       1.00      0.91      0.95        11\n",
      "          56       1.00      1.00      1.00        67\n",
      "          57       0.96      0.96      0.96        23\n",
      "          58       1.00      1.00      1.00        54\n",
      "          59       1.00      0.65      0.79        17\n",
      "          60       0.80      1.00      0.89         4\n",
      "          61       1.00      0.99      1.00       168\n",
      "          62       1.00      1.00      1.00       113\n",
      "          63       1.00      1.00      1.00       204\n",
      "          64       1.00      1.00      1.00       205\n",
      "          65       0.97      0.99      0.98        74\n",
      "          66       1.00      1.00      1.00       103\n",
      "\n",
      "   micro avg       0.98      0.98      0.98      4086\n",
      "   macro avg       0.94      0.91      0.92      4086\n",
      "weighted avg       0.98      0.98      0.98      4086\n",
      "\n"
     ]
    },
    {
     "name": "stderr",
     "output_type": "stream",
     "text": [
      "/anaconda3/lib/python3.7/site-packages/sklearn/metrics/classification.py:1143: UndefinedMetricWarning: Precision and F-score are ill-defined and being set to 0.0 in labels with no predicted samples.\n",
      "  'precision', 'predicted', average, warn_for)\n"
     ]
    }
   ],
   "source": [
    "classificationReport = classification_report(Y_test, predictions)\n",
    "print(classificationReport)"
   ]
  },
  {
   "cell_type": "markdown",
   "metadata": {},
   "source": [
    "**Predicting Offense Type using K-Nearest Neighbor Classifier**"
   ]
  },
  {
   "cell_type": "code",
   "execution_count": 54,
   "metadata": {},
   "outputs": [
    {
     "name": "stdout",
     "output_type": "stream",
     "text": [
      "Accuracy for predicting Offense Type (K-Nearest Neighbor Classifier): 0.6544297601566325\n"
     ]
    }
   ],
   "source": [
    "clf = KNeighborsClassifier()\n",
    "clf.fit(X_train, Y_train)\n",
    "predictions = clf.predict(X_test)\n",
    "accuracy = accuracy_score(Y_test, predictions)\n",
    "print('Accuracy for predicting Offense Type (K-Nearest Neighbor Classifier):', accuracy)"
   ]
  },
  {
   "cell_type": "code",
   "execution_count": 55,
   "metadata": {},
   "outputs": [
    {
     "name": "stdout",
     "output_type": "stream",
     "text": [
      "              precision    recall  f1-score   support\n",
      "\n",
      "           0       0.64      0.72      0.68        96\n",
      "           1       0.00      0.00      0.00         0\n",
      "           3       0.40      0.57      0.47         7\n",
      "           4       0.44      0.21      0.29        71\n",
      "           5       0.33      0.11      0.17         9\n",
      "           6       0.40      0.27      0.32        15\n",
      "          10       0.55      0.55      0.55        11\n",
      "          11       0.36      0.37      0.37        43\n",
      "          12       0.08      0.08      0.08        12\n",
      "          13       0.00      0.00      0.00         2\n",
      "          14       0.52      0.41      0.46        29\n",
      "          15       0.93      0.95      0.94       220\n",
      "          16       0.50      0.17      0.25         6\n",
      "          17       0.25      0.17      0.20         6\n",
      "          19       0.45      0.30      0.36        33\n",
      "          20       0.50      0.40      0.44        10\n",
      "          21       0.40      0.15      0.22        26\n",
      "          22       0.57      0.61      0.59        94\n",
      "          24       0.00      0.00      0.00         2\n",
      "          27       0.49      0.45      0.47        44\n",
      "          28       0.57      0.80      0.67         5\n",
      "          29       0.00      0.00      0.00         0\n",
      "          31       0.61      0.84      0.71       244\n",
      "          32       0.53      0.39      0.45       134\n",
      "          33       0.33      0.11      0.17         9\n",
      "          34       0.77      0.77      0.77       316\n",
      "          35       0.57      0.47      0.52       150\n",
      "          36       0.00      0.00      0.00         7\n",
      "          37       0.50      0.38      0.43        21\n",
      "          38       0.78      0.50      0.61        14\n",
      "          40       0.72      0.81      0.76       331\n",
      "          41       0.48      0.51      0.50        63\n",
      "          42       0.24      0.19      0.21        42\n",
      "          43       0.89      0.93      0.91       497\n",
      "          44       0.50      0.20      0.29         5\n",
      "          45       1.00      0.14      0.25         7\n",
      "          46       0.56      0.50      0.53       236\n",
      "          47       0.50      0.20      0.29         5\n",
      "          49       0.29      0.16      0.21        31\n",
      "          50       0.00      0.00      0.00         5\n",
      "          51       0.43      0.44      0.44        43\n",
      "          52       0.68      0.80      0.74       124\n",
      "          53       1.00      0.12      0.21        17\n",
      "          54       1.00      1.00      1.00         1\n",
      "          55       0.00      0.00      0.00        11\n",
      "          56       0.66      0.72      0.69        67\n",
      "          57       0.41      0.30      0.35        23\n",
      "          58       0.83      0.65      0.73        54\n",
      "          59       0.25      0.06      0.10        17\n",
      "          60       0.00      0.00      0.00         4\n",
      "          61       0.63      0.80      0.71       168\n",
      "          62       0.55      0.67      0.61       113\n",
      "          63       0.47      0.55      0.51       204\n",
      "          64       0.52      0.56      0.54       205\n",
      "          65       0.57      0.36      0.45        74\n",
      "          66       0.81      0.70      0.75       103\n",
      "\n",
      "   micro avg       0.65      0.65      0.65      4086\n",
      "   macro avg       0.47      0.40      0.41      4086\n",
      "weighted avg       0.64      0.65      0.64      4086\n",
      "\n"
     ]
    },
    {
     "name": "stderr",
     "output_type": "stream",
     "text": [
      "/anaconda3/lib/python3.7/site-packages/sklearn/metrics/classification.py:1143: UndefinedMetricWarning: Precision and F-score are ill-defined and being set to 0.0 in labels with no predicted samples.\n",
      "  'precision', 'predicted', average, warn_for)\n",
      "/anaconda3/lib/python3.7/site-packages/sklearn/metrics/classification.py:1145: UndefinedMetricWarning: Recall and F-score are ill-defined and being set to 0.0 in labels with no true samples.\n",
      "  'recall', 'true', average, warn_for)\n"
     ]
    }
   ],
   "source": [
    "classificationReport = classification_report(Y_test, predictions)\n",
    "print(classificationReport)"
   ]
  },
  {
   "cell_type": "markdown",
   "metadata": {},
   "source": [
    "**Predicting Offense Type using Gaussian Naive Bayes**"
   ]
  },
  {
   "cell_type": "code",
   "execution_count": 56,
   "metadata": {},
   "outputs": [
    {
     "name": "stdout",
     "output_type": "stream",
     "text": [
      "Accuracy for predicting Offense Type (Gaussian Naive Bayes): 0.8573176700930005\n"
     ]
    }
   ],
   "source": [
    "clf = GaussianNB()\n",
    "clf.fit(X_train, Y_train)\n",
    "predictions = clf.predict(X_test)\n",
    "accuracy = accuracy_score(Y_test, predictions)\n",
    "print('Accuracy for predicting Offense Type (Gaussian Naive Bayes):', accuracy)"
   ]
  },
  {
   "cell_type": "code",
   "execution_count": 57,
   "metadata": {},
   "outputs": [
    {
     "name": "stdout",
     "output_type": "stream",
     "text": [
      "              precision    recall  f1-score   support\n",
      "\n",
      "           0       1.00      1.00      1.00        96\n",
      "           3       0.05      0.14      0.07         7\n",
      "           4       1.00      1.00      1.00        71\n",
      "           5       0.82      1.00      0.90         9\n",
      "           6       1.00      1.00      1.00        15\n",
      "          10       0.92      1.00      0.96        11\n",
      "          11       1.00      1.00      1.00        43\n",
      "          12       1.00      1.00      1.00        12\n",
      "          13       1.00      1.00      1.00         2\n",
      "          14       0.73      0.28      0.40        29\n",
      "          15       0.92      1.00      0.96       220\n",
      "          16       1.00      1.00      1.00         6\n",
      "          17       1.00      1.00      1.00         6\n",
      "          19       1.00      0.97      0.98        33\n",
      "          20       1.00      1.00      1.00        10\n",
      "          21       1.00      0.04      0.07        26\n",
      "          22       1.00      1.00      1.00        94\n",
      "          24       1.00      1.00      1.00         2\n",
      "          27       1.00      1.00      1.00        44\n",
      "          28       1.00      1.00      1.00         5\n",
      "          31       1.00      1.00      1.00       244\n",
      "          32       1.00      1.00      1.00       134\n",
      "          33       1.00      1.00      1.00         9\n",
      "          34       0.95      0.93      0.94       316\n",
      "          35       0.87      0.90      0.88       150\n",
      "          36       0.00      0.00      0.00         7\n",
      "          37       1.00      1.00      1.00        21\n",
      "          38       1.00      1.00      1.00        14\n",
      "          40       0.75      0.37      0.49       331\n",
      "          41       1.00      0.97      0.98        63\n",
      "          42       0.86      0.57      0.69        42\n",
      "          43       0.99      1.00      0.99       497\n",
      "          44       1.00      1.00      1.00         5\n",
      "          45       1.00      1.00      1.00         7\n",
      "          46       0.92      0.05      0.09       236\n",
      "          47       1.00      0.80      0.89         5\n",
      "          49       0.14      1.00      0.24        31\n",
      "          50       0.80      0.80      0.80         5\n",
      "          51       1.00      0.95      0.98        43\n",
      "          52       0.98      0.90      0.94       124\n",
      "          53       1.00      1.00      1.00        17\n",
      "          54       1.00      1.00      1.00         1\n",
      "          55       0.00      0.00      0.00        11\n",
      "          56       1.00      1.00      1.00        67\n",
      "          57       1.00      0.87      0.93        23\n",
      "          58       1.00      1.00      1.00        54\n",
      "          59       1.00      1.00      1.00        17\n",
      "          60       1.00      1.00      1.00         4\n",
      "          61       0.98      1.00      0.99       168\n",
      "          62       1.00      1.00      1.00       113\n",
      "          63       0.45      0.99      0.62       204\n",
      "          64       1.00      1.00      1.00       205\n",
      "          65       0.92      0.99      0.95        74\n",
      "          66       1.00      1.00      1.00       103\n",
      "\n",
      "   micro avg       0.86      0.86      0.86      4086\n",
      "   macro avg       0.89      0.86      0.85      4086\n",
      "weighted avg       0.91      0.86      0.85      4086\n",
      "\n"
     ]
    },
    {
     "name": "stderr",
     "output_type": "stream",
     "text": [
      "/anaconda3/lib/python3.7/site-packages/sklearn/metrics/classification.py:1143: UndefinedMetricWarning: Precision and F-score are ill-defined and being set to 0.0 in labels with no predicted samples.\n",
      "  'precision', 'predicted', average, warn_for)\n"
     ]
    }
   ],
   "source": [
    "classificationReport = classification_report(Y_test, predictions)\n",
    "print(classificationReport)"
   ]
  },
  {
   "cell_type": "markdown",
   "metadata": {},
   "source": [
    "**Predicting District using Decision Tree Classifier**"
   ]
  },
  {
   "cell_type": "code",
   "execution_count": 58,
   "metadata": {},
   "outputs": [],
   "source": [
    "# Split the data and traget into training/testing sets\n",
    "X_train, X_test, Y_train, Y_test = train_test_split(selected_df[['Offense Type', 'Day of Week',\n",
    "                                                                 'Reporting Area', 'Month',\n",
    "                                                                 'Year', 'Shooting', 'Hour',\n",
    "                                                                 'UCR Offense Level']].values,\n",
    "                                                    selected_df['District'].values,\n",
    "                                                    test_size=0.01)"
   ]
  },
  {
   "cell_type": "code",
   "execution_count": 59,
   "metadata": {},
   "outputs": [
    {
     "name": "stdout",
     "output_type": "stream",
     "text": [
      "Accuracy for predicting District (Decision Tree Classifier): 0.9194811551639746\n"
     ]
    }
   ],
   "source": [
    "clf = tree.DecisionTreeClassifier()\n",
    "clf = clf.fit(X_train, Y_train)\n",
    "predictions = clf.predict(X_test)\n",
    "accuracy = accuracy_score(Y_test, predictions)\n",
    "print('Accuracy for predicting District (Decision Tree Classifier):', accuracy)"
   ]
  },
  {
   "cell_type": "markdown",
   "metadata": {},
   "source": [
    "**Predicting District using Extra Tree Classifier**"
   ]
  },
  {
   "cell_type": "code",
   "execution_count": 60,
   "metadata": {},
   "outputs": [
    {
     "name": "stdout",
     "output_type": "stream",
     "text": [
      "Accuracy for predicting District (Extra Tree Classifier): 0.6331375428291728\n"
     ]
    }
   ],
   "source": [
    "clf = tree.ExtraTreeClassifier()\n",
    "clf = clf.fit(X_train, Y_train)\n",
    "predictions = clf.predict(X_test)\n",
    "accuracy = accuracy_score(Y_test, predictions)\n",
    "print('Accuracy for predicting District (Extra Tree Classifier):', accuracy)"
   ]
  },
  {
   "cell_type": "code",
   "execution_count": 61,
   "metadata": {},
   "outputs": [
    {
     "name": "stdout",
     "output_type": "stream",
     "text": [
      "              precision    recall  f1-score   support\n",
      "\n",
      "           0       0.74      0.77      0.76       249\n",
      "           1       0.31      0.34      0.33        82\n",
      "           2       0.64      0.68      0.66       539\n",
      "           3       0.59      0.57      0.58       628\n",
      "           4       0.76      0.72      0.74       227\n",
      "           5       0.51      0.52      0.52       210\n",
      "           6       0.75      0.73      0.74       501\n",
      "           7       0.61      0.59      0.60       681\n",
      "           8       0.64      0.58      0.60       309\n",
      "           9       0.63      0.67      0.65       484\n",
      "          10       0.62      0.61      0.62       156\n",
      "          11       0.11      0.10      0.10        20\n",
      "\n",
      "   micro avg       0.63      0.63      0.63      4086\n",
      "   macro avg       0.57      0.57      0.57      4086\n",
      "weighted avg       0.63      0.63      0.63      4086\n",
      "\n"
     ]
    }
   ],
   "source": [
    "classificationReport = classification_report(Y_test, predictions)\n",
    "print(classificationReport)"
   ]
  },
  {
   "cell_type": "markdown",
   "metadata": {},
   "source": [
    "**Predicting District using Random Forest Classifier**"
   ]
  },
  {
   "cell_type": "code",
   "execution_count": 62,
   "metadata": {},
   "outputs": [
    {
     "name": "stdout",
     "output_type": "stream",
     "text": [
      "Accuracy for predicting District (Random Forest Classifier): 0.7775330396475771\n"
     ]
    }
   ],
   "source": [
    "clf = RandomForestClassifier()\n",
    "clf = clf.fit(X_train, Y_train)\n",
    "predictions = clf.predict(X_test)\n",
    "accuracy = accuracy_score(Y_test, predictions)\n",
    "print('Accuracy for predicting District (Random Forest Classifier):', accuracy)"
   ]
  },
  {
   "cell_type": "code",
   "execution_count": 63,
   "metadata": {},
   "outputs": [
    {
     "name": "stdout",
     "output_type": "stream",
     "text": [
      "              precision    recall  f1-score   support\n",
      "\n",
      "           0       0.72      0.86      0.78       249\n",
      "           1       0.39      0.21      0.27        82\n",
      "           2       0.85      0.88      0.86       539\n",
      "           3       0.68      0.68      0.68       628\n",
      "           4       0.85      0.91      0.88       227\n",
      "           5       0.59      0.58      0.58       210\n",
      "           6       0.90      0.90      0.90       501\n",
      "           7       0.79      0.82      0.81       681\n",
      "           8       0.81      0.76      0.78       309\n",
      "           9       0.80      0.78      0.79       484\n",
      "          10       0.71      0.61      0.66       156\n",
      "          11       0.17      0.10      0.12        20\n",
      "\n",
      "   micro avg       0.78      0.78      0.78      4086\n",
      "   macro avg       0.69      0.67      0.68      4086\n",
      "weighted avg       0.77      0.78      0.77      4086\n",
      "\n"
     ]
    }
   ],
   "source": [
    "classificationReport = classification_report(Y_test, predictions)\n",
    "print(classificationReport)"
   ]
  },
  {
   "cell_type": "markdown",
   "metadata": {},
   "source": [
    "**Predicting District using K-Nearest Neighbor Classifier**"
   ]
  },
  {
   "cell_type": "code",
   "execution_count": 64,
   "metadata": {},
   "outputs": [
    {
     "name": "stdout",
     "output_type": "stream",
     "text": [
      "Accuracy for predicting District (K-Nearest Neighbor Classifier): 0.8325991189427313\n"
     ]
    }
   ],
   "source": [
    "clf = KNeighborsClassifier()\n",
    "clf.fit(X_train, Y_train)\n",
    "predictions = clf.predict(X_test)\n",
    "accuracy = accuracy_score(Y_test, predictions)\n",
    "print('Accuracy for predicting District (K-Nearest Neighbor Classifier):', accuracy)"
   ]
  },
  {
   "cell_type": "code",
   "execution_count": 65,
   "metadata": {},
   "outputs": [
    {
     "name": "stdout",
     "output_type": "stream",
     "text": [
      "              precision    recall  f1-score   support\n",
      "\n",
      "           0       0.81      0.86      0.84       249\n",
      "           1       0.56      0.46      0.51        82\n",
      "           2       0.86      0.88      0.87       539\n",
      "           3       0.75      0.75      0.75       628\n",
      "           4       0.90      0.92      0.91       227\n",
      "           5       0.79      0.80      0.80       210\n",
      "           6       0.90      0.90      0.90       501\n",
      "           7       0.84      0.84      0.84       681\n",
      "           8       0.84      0.85      0.84       309\n",
      "           9       0.86      0.86      0.86       484\n",
      "          10       0.85      0.81      0.83       156\n",
      "          11       0.18      0.10      0.13        20\n",
      "\n",
      "   micro avg       0.83      0.83      0.83      4086\n",
      "   macro avg       0.76      0.75      0.76      4086\n",
      "weighted avg       0.83      0.83      0.83      4086\n",
      "\n"
     ]
    }
   ],
   "source": [
    "classificationReport = classification_report(Y_test, predictions)\n",
    "print(classificationReport)"
   ]
  },
  {
   "cell_type": "markdown",
   "metadata": {},
   "source": [
    "**Predicting District using Gaussian Naive Bayes**"
   ]
  },
  {
   "cell_type": "code",
   "execution_count": 66,
   "metadata": {},
   "outputs": [
    {
     "name": "stdout",
     "output_type": "stream",
     "text": [
      "Accuracy for predicting District (Gaussian Naive Bayes): 0.24351443954968183\n"
     ]
    }
   ],
   "source": [
    "clf = GaussianNB()\n",
    "clf.fit(X_train, Y_train)\n",
    "predictions = clf.predict(X_test)\n",
    "accuracy = accuracy_score(Y_test, predictions)\n",
    "print('Accuracy for predicting District (Gaussian Naive Bayes):', accuracy)"
   ]
  },
  {
   "cell_type": "code",
   "execution_count": 67,
   "metadata": {},
   "outputs": [
    {
     "name": "stdout",
     "output_type": "stream",
     "text": [
      "              precision    recall  f1-score   support\n",
      "\n",
      "           0       0.35      0.93      0.51       249\n",
      "           1       0.00      0.00      0.00        82\n",
      "           2       0.50      0.51      0.50       539\n",
      "           3       0.15      0.61      0.25       628\n",
      "           4       0.86      0.03      0.05       227\n",
      "           5       0.00      0.00      0.00       210\n",
      "           6       0.60      0.01      0.02       501\n",
      "           7       0.36      0.01      0.01       681\n",
      "           8       0.00      0.00      0.00       309\n",
      "           9       0.25      0.19      0.21       484\n",
      "          10       0.00      0.00      0.00       156\n",
      "          11       0.00      0.00      0.00        20\n",
      "\n",
      "   micro avg       0.24      0.24      0.24      4086\n",
      "   macro avg       0.26      0.19      0.13      4086\n",
      "weighted avg       0.32      0.24      0.17      4086\n",
      "\n"
     ]
    },
    {
     "name": "stderr",
     "output_type": "stream",
     "text": [
      "/anaconda3/lib/python3.7/site-packages/sklearn/metrics/classification.py:1143: UndefinedMetricWarning: Precision and F-score are ill-defined and being set to 0.0 in labels with no predicted samples.\n",
      "  'precision', 'predicted', average, warn_for)\n"
     ]
    }
   ],
   "source": [
    "classificationReport = classification_report(Y_test, predictions)\n",
    "print(classificationReport)"
   ]
  },
  {
   "cell_type": "markdown",
   "metadata": {},
   "source": [
    "**Predicting UCR Offense Level using Decision Tree Classifier**"
   ]
  },
  {
   "cell_type": "code",
   "execution_count": 68,
   "metadata": {},
   "outputs": [],
   "source": [
    "# Split the data and traget into training/testing sets\n",
    "X_train, X_test, Y_train, Y_test = train_test_split(selected_df[['Day of Week', 'Reporting Area',\n",
    "                                                                 'Month', 'Street', 'District',\n",
    "                                                                 'Year', 'Shooting', 'Hour','Street']].values,\n",
    "                                                    selected_df['UCR Offense Level'].values,\n",
    "                                                    test_size=0.01)"
   ]
  },
  {
   "cell_type": "code",
   "execution_count": 69,
   "metadata": {},
   "outputs": [
    {
     "name": "stdout",
     "output_type": "stream",
     "text": [
      "Accuracy for predicting UCR Offense Level (Decision Tree Classifier): 0.4319627998042095\n"
     ]
    }
   ],
   "source": [
    "clf = tree.DecisionTreeClassifier()\n",
    "clf = clf.fit(X_train, Y_train)\n",
    "predictions = clf.predict(X_test)\n",
    "accuracy = accuracy_score(Y_test, predictions)\n",
    "print('Accuracy for predicting UCR Offense Level (Decision Tree Classifier):', accuracy)"
   ]
  },
  {
   "cell_type": "markdown",
   "metadata": {},
   "source": [
    "**Predicting UCR Offense Level using Extra Tree Classifier**"
   ]
  },
  {
   "cell_type": "code",
   "execution_count": 70,
   "metadata": {},
   "outputs": [
    {
     "name": "stdout",
     "output_type": "stream",
     "text": [
      "Accuracy for predicting UCR Offense Level (Extra Tree Classifier): 0.4547234459128732\n"
     ]
    }
   ],
   "source": [
    "clf = tree.ExtraTreeClassifier()\n",
    "clf = clf.fit(X_train, Y_train)\n",
    "predictions = clf.predict(X_test)\n",
    "accuracy = accuracy_score(Y_test, predictions)\n",
    "print('Accuracy for predicting UCR Offense Level (Extra Tree Classifier):', accuracy)"
   ]
  },
  {
   "cell_type": "code",
   "execution_count": 71,
   "metadata": {},
   "outputs": [
    {
     "name": "stdout",
     "output_type": "stream",
     "text": [
      "              precision    recall  f1-score   support\n",
      "\n",
      "           0       0.05      0.06      0.05        16\n",
      "           1       0.25      0.27      0.26       769\n",
      "           2       0.57      0.57      0.57      1999\n",
      "           3       0.41      0.40      0.41      1301\n",
      "           4       0.00      0.00      0.00         1\n",
      "\n",
      "   micro avg       0.45      0.45      0.45      4086\n",
      "   macro avg       0.26      0.26      0.26      4086\n",
      "weighted avg       0.46      0.45      0.46      4086\n",
      "\n"
     ]
    },
    {
     "name": "stderr",
     "output_type": "stream",
     "text": [
      "/anaconda3/lib/python3.7/site-packages/sklearn/metrics/classification.py:1143: UndefinedMetricWarning: Precision and F-score are ill-defined and being set to 0.0 in labels with no predicted samples.\n",
      "  'precision', 'predicted', average, warn_for)\n"
     ]
    }
   ],
   "source": [
    "classificationReport = classification_report(Y_test, predictions)\n",
    "print(classificationReport)"
   ]
  },
  {
   "cell_type": "markdown",
   "metadata": {},
   "source": [
    "**Predicting UCR Offense Level using Random Forest Classifier**"
   ]
  },
  {
   "cell_type": "code",
   "execution_count": 72,
   "metadata": {},
   "outputs": [
    {
     "name": "stdout",
     "output_type": "stream",
     "text": [
      "Accuracy for predicting UCR Offense Level (Random Forest Classifier): 0.4965736661771904\n"
     ]
    }
   ],
   "source": [
    "clf = RandomForestClassifier()\n",
    "clf = clf.fit(X_train, Y_train)\n",
    "predictions = clf.predict(X_test)\n",
    "accuracy = accuracy_score(Y_test, predictions)\n",
    "print('Accuracy for predicting UCR Offense Level (Random Forest Classifier):', accuracy)"
   ]
  },
  {
   "cell_type": "code",
   "execution_count": 73,
   "metadata": {},
   "outputs": [
    {
     "name": "stdout",
     "output_type": "stream",
     "text": [
      "              precision    recall  f1-score   support\n",
      "\n",
      "           0       0.00      0.00      0.00        16\n",
      "           1       0.29      0.23      0.26       769\n",
      "           2       0.58      0.68      0.62      1999\n",
      "           3       0.44      0.38      0.41      1301\n",
      "           4       0.00      0.00      0.00         1\n",
      "\n",
      "   micro avg       0.50      0.50      0.50      4086\n",
      "   macro avg       0.26      0.26      0.26      4086\n",
      "weighted avg       0.48      0.50      0.48      4086\n",
      "\n"
     ]
    },
    {
     "name": "stderr",
     "output_type": "stream",
     "text": [
      "/anaconda3/lib/python3.7/site-packages/sklearn/metrics/classification.py:1143: UndefinedMetricWarning: Precision and F-score are ill-defined and being set to 0.0 in labels with no predicted samples.\n",
      "  'precision', 'predicted', average, warn_for)\n"
     ]
    }
   ],
   "source": [
    "classificationReport = classification_report(Y_test, predictions)\n",
    "print(classificationReport)"
   ]
  },
  {
   "cell_type": "markdown",
   "metadata": {},
   "source": [
    "**Predicting UCR Offense Level using K-Nearest Neighbor Classifier**"
   ]
  },
  {
   "cell_type": "code",
   "execution_count": 74,
   "metadata": {},
   "outputs": [
    {
     "name": "stdout",
     "output_type": "stream",
     "text": [
      "Accuracy for predicting UCR Offense Level (K-Nearest Neighbor Classifier): 0.48384728340675476\n"
     ]
    }
   ],
   "source": [
    "clf = KNeighborsClassifier()\n",
    "clf.fit(X_train, Y_train)\n",
    "predictions = clf.predict(X_test)\n",
    "accuracy = accuracy_score(Y_test, predictions)\n",
    "print('Accuracy for predicting UCR Offense Level (K-Nearest Neighbor Classifier):', accuracy)"
   ]
  },
  {
   "cell_type": "code",
   "execution_count": 75,
   "metadata": {},
   "outputs": [
    {
     "name": "stdout",
     "output_type": "stream",
     "text": [
      "              precision    recall  f1-score   support\n",
      "\n",
      "           0       0.00      0.00      0.00        16\n",
      "           1       0.30      0.30      0.30       769\n",
      "           2       0.56      0.67      0.61      1999\n",
      "           3       0.44      0.31      0.37      1301\n",
      "           4       0.00      0.00      0.00         1\n",
      "\n",
      "   micro avg       0.48      0.48      0.48      4086\n",
      "   macro avg       0.26      0.26      0.26      4086\n",
      "weighted avg       0.47      0.48      0.47      4086\n",
      "\n"
     ]
    },
    {
     "name": "stderr",
     "output_type": "stream",
     "text": [
      "/anaconda3/lib/python3.7/site-packages/sklearn/metrics/classification.py:1143: UndefinedMetricWarning: Precision and F-score are ill-defined and being set to 0.0 in labels with no predicted samples.\n",
      "  'precision', 'predicted', average, warn_for)\n"
     ]
    }
   ],
   "source": [
    "classificationReport = classification_report(Y_test, predictions)\n",
    "print(classificationReport)"
   ]
  },
  {
   "cell_type": "markdown",
   "metadata": {},
   "source": [
    "**Predicting UCR Offense Level using Gaussian Naive Bayes**"
   ]
  },
  {
   "cell_type": "code",
   "execution_count": 76,
   "metadata": {},
   "outputs": [
    {
     "name": "stdout",
     "output_type": "stream",
     "text": [
      "Accuracy for predicting UCR Offense Level (Gaussian Naive Bayes): 0.4887420460107685\n"
     ]
    }
   ],
   "source": [
    "clf = GaussianNB()\n",
    "clf.fit(X_train, Y_train)\n",
    "predictions = clf.predict(X_test)\n",
    "accuracy = accuracy_score(Y_test, predictions)\n",
    "print('Accuracy for predicting UCR Offense Level (Gaussian Naive Bayes):', accuracy)"
   ]
  },
  {
   "cell_type": "code",
   "execution_count": 77,
   "metadata": {},
   "outputs": [
    {
     "name": "stdout",
     "output_type": "stream",
     "text": [
      "              precision    recall  f1-score   support\n",
      "\n",
      "           0       0.00      0.00      0.00        16\n",
      "           1       0.00      0.00      0.00       769\n",
      "           2       0.49      1.00      0.66      1999\n",
      "           3       0.00      0.00      0.00      1301\n",
      "           4       0.00      0.00      0.00         1\n",
      "\n",
      "   micro avg       0.49      0.49      0.49      4086\n",
      "   macro avg       0.10      0.20      0.13      4086\n",
      "weighted avg       0.24      0.49      0.32      4086\n",
      "\n"
     ]
    },
    {
     "name": "stderr",
     "output_type": "stream",
     "text": [
      "/anaconda3/lib/python3.7/site-packages/sklearn/metrics/classification.py:1143: UndefinedMetricWarning: Precision and F-score are ill-defined and being set to 0.0 in labels with no predicted samples.\n",
      "  'precision', 'predicted', average, warn_for)\n"
     ]
    }
   ],
   "source": [
    "classificationReport = classification_report(Y_test, predictions)\n",
    "print(classificationReport)"
   ]
  },
  {
   "cell_type": "markdown",
   "metadata": {},
   "source": [
    "**Predicting Offense Type using Decision Tree Classifier**"
   ]
  },
  {
   "cell_type": "code",
   "execution_count": 78,
   "metadata": {},
   "outputs": [],
   "source": [
    "# Split the data and traget into training/testing sets\n",
    "X_train, X_test, Y_train, Y_test = train_test_split(selected_df[['Day of Week',\n",
    "                                                                 'District', 'Reporting Area', 'Month',\n",
    "                                                                 'Year', 'Shooting', 'Hour',\n",
    "                                                                 'Street', 'UCR Offense Level']].values,\n",
    "                                                    selected_df['Offense Type'].values,\n",
    "                                                    test_size=0.01)"
   ]
  },
  {
   "cell_type": "code",
   "execution_count": 79,
   "metadata": {},
   "outputs": [
    {
     "name": "stdout",
     "output_type": "stream",
     "text": [
      "Accuracy for predicting Offense Type (Decision Tree Classifier): 0.25697503671071953\n"
     ]
    }
   ],
   "source": [
    "clf = tree.DecisionTreeClassifier()\n",
    "clf = clf.fit(X_train, Y_train)\n",
    "predictions = clf.predict(X_test)\n",
    "accuracy = accuracy_score(Y_test, predictions)\n",
    "print('Accuracy for predicting Offense Type (Decision Tree Classifier):', accuracy)"
   ]
  },
  {
   "cell_type": "markdown",
   "metadata": {},
   "source": [
    "**Prediciting Offense Type using Extra Tree Classifier** "
   ]
  },
  {
   "cell_type": "code",
   "execution_count": 80,
   "metadata": {},
   "outputs": [
    {
     "name": "stdout",
     "output_type": "stream",
     "text": [
      "Accuracy for predicting Offense Type (Extra Tree Classifier): 0.24669603524229075\n"
     ]
    }
   ],
   "source": [
    "clf = tree.ExtraTreeClassifier()\n",
    "clf = clf.fit(X_train, Y_train)\n",
    "predictions = clf.predict(X_test)\n",
    "accuracy = accuracy_score(Y_test, predictions)\n",
    "print('Accuracy for predicting Offense Type (Extra Tree Classifier):', accuracy)"
   ]
  },
  {
   "cell_type": "code",
   "execution_count": 81,
   "metadata": {},
   "outputs": [
    {
     "name": "stdout",
     "output_type": "stream",
     "text": [
      "              precision    recall  f1-score   support\n",
      "\n",
      "           0       0.23      0.29      0.25        94\n",
      "           2       0.00      0.00      0.00         3\n",
      "           3       0.43      0.25      0.32        12\n",
      "           4       0.14      0.14      0.14        58\n",
      "           5       0.76      0.65      0.70        20\n",
      "           6       0.00      0.00      0.00        14\n",
      "           7       0.00      0.00      0.00         0\n",
      "           8       0.00      0.00      0.00         2\n",
      "          10       0.22      0.19      0.21        21\n",
      "          11       0.07      0.09      0.08        33\n",
      "          12       0.07      0.05      0.06        20\n",
      "          13       0.00      0.00      0.00         1\n",
      "          14       0.04      0.06      0.05        34\n",
      "          15       0.53      0.64      0.58       209\n",
      "          16       0.00      0.00      0.00         7\n",
      "          17       0.00      0.00      0.00         4\n",
      "          19       0.00      0.00      0.00        26\n",
      "          20       0.08      0.17      0.11         6\n",
      "          21       0.24      0.25      0.24        24\n",
      "          22       0.19      0.15      0.17        93\n",
      "          24       1.00      1.00      1.00         1\n",
      "          27       0.04      0.03      0.04        59\n",
      "          28       0.00      0.00      0.00         5\n",
      "          29       0.00      0.00      0.00         3\n",
      "          31       0.15      0.15      0.15       240\n",
      "          32       0.22      0.18      0.20       159\n",
      "          33       0.13      0.13      0.13        15\n",
      "          34       0.56      0.56      0.56       327\n",
      "          35       0.26      0.23      0.25       132\n",
      "          36       0.00      0.00      0.00         5\n",
      "          37       0.06      0.05      0.06        19\n",
      "          38       0.08      0.06      0.07        16\n",
      "          40       0.23      0.20      0.22       331\n",
      "          41       0.09      0.12      0.11        72\n",
      "          42       0.03      0.02      0.02        44\n",
      "          43       0.36      0.36      0.36       478\n",
      "          44       0.00      0.00      0.00        14\n",
      "          45       0.00      0.00      0.00         5\n",
      "          46       0.20      0.22      0.21       232\n",
      "          47       0.00      0.00      0.00         5\n",
      "          49       0.09      0.14      0.11        29\n",
      "          50       0.00      0.00      0.00         5\n",
      "          51       0.04      0.04      0.04        47\n",
      "          52       0.13      0.14      0.14       125\n",
      "          53       0.00      0.00      0.00         9\n",
      "          54       0.00      0.00      0.00         0\n",
      "          55       0.10      0.10      0.10        10\n",
      "          56       0.24      0.20      0.21        81\n",
      "          57       0.00      0.00      0.00        23\n",
      "          58       0.12      0.11      0.11        62\n",
      "          59       0.18      0.25      0.21        12\n",
      "          60       0.00      0.00      0.00         5\n",
      "          61       0.22      0.19      0.20       217\n",
      "          62       0.25      0.28      0.26       136\n",
      "          63       0.22      0.21      0.21       183\n",
      "          64       0.14      0.17      0.15       140\n",
      "          65       0.16      0.12      0.14        58\n",
      "          66       0.13      0.12      0.12       101\n",
      "\n",
      "   micro avg       0.25      0.25      0.25      4086\n",
      "   macro avg       0.15      0.14      0.14      4086\n",
      "weighted avg       0.25      0.25      0.25      4086\n",
      "\n"
     ]
    },
    {
     "name": "stderr",
     "output_type": "stream",
     "text": [
      "/anaconda3/lib/python3.7/site-packages/sklearn/metrics/classification.py:1143: UndefinedMetricWarning: Precision and F-score are ill-defined and being set to 0.0 in labels with no predicted samples.\n",
      "  'precision', 'predicted', average, warn_for)\n",
      "/anaconda3/lib/python3.7/site-packages/sklearn/metrics/classification.py:1145: UndefinedMetricWarning: Recall and F-score are ill-defined and being set to 0.0 in labels with no true samples.\n",
      "  'recall', 'true', average, warn_for)\n"
     ]
    }
   ],
   "source": [
    "classificationReport = classification_report(Y_test, predictions)\n",
    "print(classificationReport)"
   ]
  },
  {
   "cell_type": "markdown",
   "metadata": {},
   "source": [
    "**Prediciting Offense Type using Random Forest Classifier** "
   ]
  },
  {
   "cell_type": "code",
   "execution_count": 82,
   "metadata": {},
   "outputs": [
    {
     "name": "stdout",
     "output_type": "stream",
     "text": [
      "Accuracy for predicting Offense Type (Random Forest Classifier): 0.29858051884483605\n"
     ]
    }
   ],
   "source": [
    "clf = RandomForestClassifier()\n",
    "clf = clf.fit(X_train, Y_train)\n",
    "predictions = clf.predict(X_test)\n",
    "accuracy = accuracy_score(Y_test, predictions)\n",
    "print('Accuracy for predicting Offense Type (Random Forest Classifier):', accuracy)"
   ]
  },
  {
   "cell_type": "code",
   "execution_count": 83,
   "metadata": {},
   "outputs": [
    {
     "name": "stdout",
     "output_type": "stream",
     "text": [
      "              precision    recall  f1-score   support\n",
      "\n",
      "           0       0.26      0.26      0.26        94\n",
      "           2       0.00      0.00      0.00         3\n",
      "           3       0.36      0.33      0.35        12\n",
      "           4       0.12      0.09      0.10        58\n",
      "           5       0.87      1.00      0.93        20\n",
      "           6       0.29      0.14      0.19        14\n",
      "           7       0.00      0.00      0.00         0\n",
      "           8       0.50      0.50      0.50         2\n",
      "          10       0.38      0.29      0.32        21\n",
      "          11       0.14      0.15      0.14        33\n",
      "          12       0.00      0.00      0.00        20\n",
      "          13       0.00      0.00      0.00         1\n",
      "          14       0.07      0.06      0.06        34\n",
      "          15       0.53      0.71      0.61       209\n",
      "          16       0.50      0.14      0.22         7\n",
      "          17       0.00      0.00      0.00         4\n",
      "          19       0.00      0.00      0.00        26\n",
      "          20       0.00      0.00      0.00         6\n",
      "          21       0.19      0.12      0.15        24\n",
      "          22       0.24      0.20      0.22        93\n",
      "          24       1.00      1.00      1.00         1\n",
      "          27       0.11      0.07      0.08        59\n",
      "          28       0.60      0.60      0.60         5\n",
      "          29       0.00      0.00      0.00         3\n",
      "          31       0.18      0.21      0.20       240\n",
      "          32       0.24      0.17      0.20       159\n",
      "          33       0.11      0.07      0.08        15\n",
      "          34       0.53      0.72      0.61       327\n",
      "          35       0.28      0.27      0.27       132\n",
      "          36       0.33      0.20      0.25         5\n",
      "          37       0.05      0.05      0.05        19\n",
      "          38       0.44      0.25      0.32        16\n",
      "          40       0.25      0.28      0.26       331\n",
      "          41       0.12      0.11      0.12        72\n",
      "          42       0.03      0.02      0.02        44\n",
      "          43       0.36      0.45      0.40       478\n",
      "          44       0.00      0.00      0.00        14\n",
      "          45       0.00      0.00      0.00         5\n",
      "          46       0.21      0.25      0.23       232\n",
      "          47       0.50      0.20      0.29         5\n",
      "          49       0.21      0.17      0.19        29\n",
      "          50       0.00      0.00      0.00         5\n",
      "          51       0.15      0.09      0.11        47\n",
      "          52       0.16      0.10      0.12       125\n",
      "          53       0.00      0.00      0.00         9\n",
      "          54       0.00      0.00      0.00         0\n",
      "          55       0.25      0.10      0.14        10\n",
      "          56       0.25      0.11      0.15        81\n",
      "          57       0.00      0.00      0.00        23\n",
      "          58       0.21      0.10      0.13        62\n",
      "          59       0.36      0.33      0.35        12\n",
      "          60       0.00      0.00      0.00         5\n",
      "          61       0.23      0.22      0.23       217\n",
      "          62       0.37      0.34      0.35       136\n",
      "          63       0.27      0.27      0.27       183\n",
      "          64       0.19      0.19      0.19       140\n",
      "          65       0.20      0.19      0.20        58\n",
      "          66       0.22      0.17      0.19       101\n",
      "\n",
      "   micro avg       0.30      0.30      0.30      4086\n",
      "   macro avg       0.22      0.19      0.20      4086\n",
      "weighted avg       0.28      0.30      0.28      4086\n",
      "\n"
     ]
    },
    {
     "name": "stderr",
     "output_type": "stream",
     "text": [
      "/anaconda3/lib/python3.7/site-packages/sklearn/metrics/classification.py:1143: UndefinedMetricWarning: Precision and F-score are ill-defined and being set to 0.0 in labels with no predicted samples.\n",
      "  'precision', 'predicted', average, warn_for)\n",
      "/anaconda3/lib/python3.7/site-packages/sklearn/metrics/classification.py:1145: UndefinedMetricWarning: Recall and F-score are ill-defined and being set to 0.0 in labels with no true samples.\n",
      "  'recall', 'true', average, warn_for)\n"
     ]
    }
   ],
   "source": [
    "classificationReport = classification_report(Y_test, predictions)\n",
    "print(classificationReport)"
   ]
  },
  {
   "cell_type": "markdown",
   "metadata": {},
   "source": [
    "**Prediciting Offense Type using K-Nearest Neighbor Classifier** "
   ]
  },
  {
   "cell_type": "code",
   "execution_count": 84,
   "metadata": {},
   "outputs": [
    {
     "name": "stdout",
     "output_type": "stream",
     "text": [
      "Accuracy for predicting Offense Type (K-Nearest Neighbor Classifier): 0.18257464512971122\n"
     ]
    }
   ],
   "source": [
    "clf = KNeighborsClassifier()\n",
    "clf.fit(X_train, Y_train)\n",
    "predictions = clf.predict(X_test)\n",
    "accuracy = accuracy_score(Y_test, predictions)\n",
    "print('Accuracy for predicting Offense Type (K-Nearest Neighbor Classifier):', accuracy)"
   ]
  },
  {
   "cell_type": "code",
   "execution_count": 85,
   "metadata": {},
   "outputs": [
    {
     "name": "stdout",
     "output_type": "stream",
     "text": [
      "              precision    recall  f1-score   support\n",
      "\n",
      "           0       0.10      0.22      0.13        94\n",
      "           1       0.00      0.00      0.00         0\n",
      "           2       0.00      0.00      0.00         3\n",
      "           3       0.14      0.25      0.18        12\n",
      "           4       0.03      0.07      0.04        58\n",
      "           5       0.00      0.00      0.00        20\n",
      "           6       0.04      0.07      0.05        14\n",
      "           8       0.50      0.50      0.50         2\n",
      "          10       0.12      0.19      0.15        21\n",
      "          11       0.05      0.15      0.08        33\n",
      "          12       0.03      0.05      0.04        20\n",
      "          13       0.00      0.00      0.00         1\n",
      "          14       0.03      0.06      0.04        34\n",
      "          15       0.29      0.58      0.39       209\n",
      "          16       0.00      0.00      0.00         7\n",
      "          17       0.00      0.00      0.00         4\n",
      "          18       0.00      0.00      0.00         0\n",
      "          19       0.04      0.08      0.05        26\n",
      "          20       0.00      0.00      0.00         6\n",
      "          21       0.07      0.08      0.08        24\n",
      "          22       0.07      0.11      0.09        93\n",
      "          24       0.00      0.00      0.00         1\n",
      "          27       0.03      0.05      0.04        59\n",
      "          28       0.40      0.40      0.40         5\n",
      "          29       0.00      0.00      0.00         3\n",
      "          31       0.11      0.16      0.13       240\n",
      "          32       0.15      0.16      0.16       159\n",
      "          33       0.09      0.07      0.08        15\n",
      "          34       0.36      0.42      0.38       327\n",
      "          35       0.17      0.11      0.14       132\n",
      "          36       0.00      0.00      0.00         5\n",
      "          37       0.06      0.05      0.06        19\n",
      "          38       0.38      0.31      0.34        16\n",
      "          40       0.17      0.15      0.16       331\n",
      "          41       0.22      0.17      0.19        72\n",
      "          42       0.12      0.07      0.09        44\n",
      "          43       0.26      0.30      0.28       478\n",
      "          44       1.00      0.07      0.13        14\n",
      "          45       0.00      0.00      0.00         5\n",
      "          46       0.17      0.09      0.12       232\n",
      "          47       0.00      0.00      0.00         5\n",
      "          49       0.20      0.14      0.16        29\n",
      "          50       0.00      0.00      0.00         5\n",
      "          51       0.20      0.09      0.12        47\n",
      "          52       0.05      0.02      0.02       125\n",
      "          53       0.00      0.00      0.00         9\n",
      "          54       0.00      0.00      0.00         0\n",
      "          55       0.00      0.00      0.00        10\n",
      "          56       0.18      0.04      0.06        81\n",
      "          57       0.00      0.00      0.00        23\n",
      "          58       0.11      0.03      0.05        62\n",
      "          59       0.29      0.17      0.21        12\n",
      "          60       0.00      0.00      0.00         5\n",
      "          61       0.15      0.06      0.09       217\n",
      "          62       0.33      0.27      0.30       136\n",
      "          63       0.11      0.05      0.07       183\n",
      "          64       0.22      0.19      0.20       140\n",
      "          65       0.20      0.09      0.12        58\n",
      "          66       0.07      0.03      0.04       101\n",
      "\n",
      "   micro avg       0.18      0.18      0.18      4086\n",
      "   macro avg       0.12      0.10      0.10      4086\n",
      "weighted avg       0.18      0.18      0.17      4086\n",
      "\n"
     ]
    },
    {
     "name": "stderr",
     "output_type": "stream",
     "text": [
      "/anaconda3/lib/python3.7/site-packages/sklearn/metrics/classification.py:1143: UndefinedMetricWarning: Precision and F-score are ill-defined and being set to 0.0 in labels with no predicted samples.\n",
      "  'precision', 'predicted', average, warn_for)\n",
      "/anaconda3/lib/python3.7/site-packages/sklearn/metrics/classification.py:1145: UndefinedMetricWarning: Recall and F-score are ill-defined and being set to 0.0 in labels with no true samples.\n",
      "  'recall', 'true', average, warn_for)\n"
     ]
    }
   ],
   "source": [
    "classificationReport = classification_report(Y_test, predictions)\n",
    "print(classificationReport)"
   ]
  },
  {
   "cell_type": "markdown",
   "metadata": {},
   "source": [
    "**Prediciting Offense Type using Gaussian Naive Bayes** "
   ]
  },
  {
   "cell_type": "code",
   "execution_count": 86,
   "metadata": {},
   "outputs": [
    {
     "name": "stdout",
     "output_type": "stream",
     "text": [
      "Accuracy for predicting Offense Type (Gaussian Naive Bayes): 0.2711698482623593\n"
     ]
    }
   ],
   "source": [
    "clf = GaussianNB()\n",
    "clf.fit(X_train, Y_train)\n",
    "predictions = clf.predict(X_test)\n",
    "accuracy = accuracy_score(Y_test, predictions)\n",
    "print('Accuracy for predicting Offense Type (Gaussian Naive Bayes):', accuracy)"
   ]
  },
  {
   "cell_type": "code",
   "execution_count": 87,
   "metadata": {},
   "outputs": [
    {
     "name": "stdout",
     "output_type": "stream",
     "text": [
      "              precision    recall  f1-score   support\n",
      "\n",
      "           0       0.00      0.00      0.00        94\n",
      "           2       0.00      0.00      0.00         3\n",
      "           3       0.00      0.00      0.00        12\n",
      "           4       0.00      0.00      0.00        58\n",
      "           5       0.87      1.00      0.93        20\n",
      "           6       0.00      0.00      0.00        14\n",
      "           7       0.00      0.00      0.00         0\n",
      "           8       0.00      0.00      0.00         2\n",
      "          10       0.00      0.00      0.00        21\n",
      "          11       0.00      0.00      0.00        33\n",
      "          12       0.00      0.00      0.00        20\n",
      "          13       0.00      0.00      0.00         1\n",
      "          14       0.00      0.00      0.00        34\n",
      "          15       0.24      0.65      0.35       209\n",
      "          16       0.00      0.00      0.00         7\n",
      "          17       0.00      0.00      0.00         4\n",
      "          19       0.00      0.00      0.00        26\n",
      "          20       0.00      0.00      0.00         6\n",
      "          21       0.50      0.04      0.08        24\n",
      "          22       0.00      0.00      0.00        93\n",
      "          24       1.00      1.00      1.00         1\n",
      "          27       0.00      0.00      0.00        59\n",
      "          28       0.00      0.00      0.00         5\n",
      "          29       0.17      0.67      0.27         3\n",
      "          31       0.00      0.00      0.00       240\n",
      "          32       0.00      0.00      0.00       159\n",
      "          33       0.00      0.00      0.00        15\n",
      "          34       0.43      0.99      0.60       327\n",
      "          35       0.33      0.02      0.04       132\n",
      "          36       0.00      0.00      0.00         5\n",
      "          37       0.00      0.00      0.00        19\n",
      "          38       0.00      0.00      0.00        16\n",
      "          40       0.21      0.10      0.14       331\n",
      "          41       0.00      0.00      0.00        72\n",
      "          42       0.00      0.00      0.00        44\n",
      "          43       0.24      0.95      0.39       478\n",
      "          44       0.00      0.00      0.00        14\n",
      "          45       0.00      0.00      0.00         5\n",
      "          46       0.00      0.00      0.00       232\n",
      "          47       0.00      0.00      0.00         5\n",
      "          49       0.00      0.00      0.00        29\n",
      "          50       0.00      0.00      0.00         5\n",
      "          51       0.00      0.00      0.00        47\n",
      "          52       0.00      0.00      0.00       125\n",
      "          53       0.00      0.00      0.00         9\n",
      "          55       0.00      0.00      0.00        10\n",
      "          56       0.20      0.01      0.02        81\n",
      "          57       0.00      0.00      0.00        23\n",
      "          58       0.00      0.00      0.00        62\n",
      "          59       0.00      0.00      0.00        12\n",
      "          60       0.00      0.00      0.00         5\n",
      "          61       0.19      0.54      0.28       217\n",
      "          62       0.00      0.00      0.00       136\n",
      "          63       0.20      0.08      0.12       183\n",
      "          64       0.00      0.00      0.00       140\n",
      "          65       0.00      0.00      0.00        58\n",
      "          66       0.00      0.00      0.00       101\n",
      "\n",
      "   micro avg       0.27      0.27      0.27      4086\n",
      "   macro avg       0.08      0.11      0.07      4086\n",
      "weighted avg       0.13      0.27      0.15      4086\n",
      "\n"
     ]
    },
    {
     "name": "stderr",
     "output_type": "stream",
     "text": [
      "/anaconda3/lib/python3.7/site-packages/sklearn/metrics/classification.py:1143: UndefinedMetricWarning: Precision and F-score are ill-defined and being set to 0.0 in labels with no predicted samples.\n",
      "  'precision', 'predicted', average, warn_for)\n",
      "/anaconda3/lib/python3.7/site-packages/sklearn/metrics/classification.py:1145: UndefinedMetricWarning: Recall and F-score are ill-defined and being set to 0.0 in labels with no true samples.\n",
      "  'recall', 'true', average, warn_for)\n"
     ]
    }
   ],
   "source": [
    "classificationReport = classification_report(Y_test, predictions)\n",
    "print(classificationReport)"
   ]
  },
  {
   "cell_type": "markdown",
   "metadata": {},
   "source": [
    "**Predicting Time of Day using Decision Tree Classifier**"
   ]
  },
  {
   "cell_type": "code",
   "execution_count": 88,
   "metadata": {},
   "outputs": [],
   "source": [
    "# Split the data and traget into training/testing sets\n",
    "X_train, X_test, Y_train, Y_test = train_test_split(selected_df[['Offense Description', 'Day of Week',\n",
    "                                                                 'District', 'Reporting Area', 'Month',\n",
    "                                                                 'Year', 'Shooting', 'Offense Type',\n",
    "                                                                 'Street', 'UCR Offense Level']].values,\n",
    "                                                    selected_df['Is Dark'].values,\n",
    "                                                    test_size=0.01)"
   ]
  },
  {
   "cell_type": "code",
   "execution_count": 89,
   "metadata": {},
   "outputs": [
    {
     "name": "stdout",
     "output_type": "stream",
     "text": [
      "Accuracy for predicting Time of Day (Decision Tree Classifier): 0.577826725403818\n"
     ]
    }
   ],
   "source": [
    "clf = tree.DecisionTreeClassifier()\n",
    "clf = clf.fit(X_train, Y_train)\n",
    "predictions = clf.predict(X_test)\n",
    "accuracy = accuracy_score(Y_test, predictions)\n",
    "print('Accuracy for predicting Time of Day (Decision Tree Classifier):', accuracy)"
   ]
  },
  {
   "cell_type": "markdown",
   "metadata": {},
   "source": [
    "**Predicting Time of Day using Extra Tree Classifier**"
   ]
  },
  {
   "cell_type": "code",
   "execution_count": 90,
   "metadata": {},
   "outputs": [
    {
     "name": "stdout",
     "output_type": "stream",
     "text": [
      "Accuracy for predicting Time of Day (Extra Tree Classifier): 0.5819872736172296\n"
     ]
    }
   ],
   "source": [
    "clf = tree.ExtraTreeClassifier()\n",
    "clf = clf.fit(X_train, Y_train)\n",
    "predictions = clf.predict(X_test)\n",
    "accuracy = accuracy_score(Y_test, predictions)\n",
    "print('Accuracy for predicting Time of Day (Extra Tree Classifier):', accuracy)"
   ]
  },
  {
   "cell_type": "code",
   "execution_count": 91,
   "metadata": {},
   "outputs": [
    {
     "name": "stdout",
     "output_type": "stream",
     "text": [
      "              precision    recall  f1-score   support\n",
      "\n",
      "           0       0.64      0.63      0.64      2365\n",
      "           1       0.50      0.51      0.51      1721\n",
      "\n",
      "   micro avg       0.58      0.58      0.58      4086\n",
      "   macro avg       0.57      0.57      0.57      4086\n",
      "weighted avg       0.58      0.58      0.58      4086\n",
      "\n"
     ]
    }
   ],
   "source": [
    "classificationReport = classification_report(Y_test, predictions)\n",
    "print(classificationReport)"
   ]
  },
  {
   "cell_type": "markdown",
   "metadata": {},
   "source": [
    "**Predicting Time of Day using Random Forest Classifier**"
   ]
  },
  {
   "cell_type": "code",
   "execution_count": 92,
   "metadata": {},
   "outputs": [
    {
     "name": "stdout",
     "output_type": "stream",
     "text": [
      "Accuracy for predicting Time of Day (Random Forest Classifier): 0.6018110621634851\n"
     ]
    }
   ],
   "source": [
    "clf = RandomForestClassifier()\n",
    "clf = clf.fit(X_train, Y_train)\n",
    "predictions = clf.predict(X_test)\n",
    "accuracy = accuracy_score(Y_test, predictions)\n",
    "print('Accuracy for predicting Time of Day (Random Forest Classifier):', accuracy)"
   ]
  },
  {
   "cell_type": "code",
   "execution_count": 93,
   "metadata": {},
   "outputs": [
    {
     "name": "stdout",
     "output_type": "stream",
     "text": [
      "              precision    recall  f1-score   support\n",
      "\n",
      "           0       0.63      0.75      0.69      2365\n",
      "           1       0.54      0.40      0.46      1721\n",
      "\n",
      "   micro avg       0.60      0.60      0.60      4086\n",
      "   macro avg       0.58      0.57      0.57      4086\n",
      "weighted avg       0.59      0.60      0.59      4086\n",
      "\n"
     ]
    }
   ],
   "source": [
    "classificationReport = classification_report(Y_test, predictions)\n",
    "print(classificationReport)"
   ]
  },
  {
   "cell_type": "markdown",
   "metadata": {},
   "source": [
    "**Predicting Time of Day using K-Nearest Neighbor Classifier**"
   ]
  },
  {
   "cell_type": "code",
   "execution_count": 94,
   "metadata": {},
   "outputs": [
    {
     "name": "stdout",
     "output_type": "stream",
     "text": [
      "Accuracy for predicting Time of Day (K-Nearest Neighbor Classifier): 0.5805188448360254\n"
     ]
    }
   ],
   "source": [
    "clf = KNeighborsClassifier()\n",
    "clf.fit(X_train, Y_train)\n",
    "predictions = clf.predict(X_test)\n",
    "accuracy = accuracy_score(Y_test, predictions)\n",
    "print('Accuracy for predicting Time of Day (K-Nearest Neighbor Classifier):', accuracy)"
   ]
  },
  {
   "cell_type": "code",
   "execution_count": 95,
   "metadata": {},
   "outputs": [
    {
     "name": "stdout",
     "output_type": "stream",
     "text": [
      "              precision    recall  f1-score   support\n",
      "\n",
      "           0       0.63      0.67      0.65      2365\n",
      "           1       0.50      0.46      0.48      1721\n",
      "\n",
      "   micro avg       0.58      0.58      0.58      4086\n",
      "   macro avg       0.57      0.56      0.56      4086\n",
      "weighted avg       0.58      0.58      0.58      4086\n",
      "\n"
     ]
    }
   ],
   "source": [
    "classificationReport = classification_report(Y_test, predictions)\n",
    "print(classificationReport)"
   ]
  },
  {
   "cell_type": "markdown",
   "metadata": {},
   "source": [
    "**Predicting Time of Day using Gaussian Naive Bayes**"
   ]
  },
  {
   "cell_type": "code",
   "execution_count": 96,
   "metadata": {},
   "outputs": [
    {
     "name": "stdout",
     "output_type": "stream",
     "text": [
      "Accuracy for predicting Time of Day (Gaussian Naive Bayes): 0.5822320117474302\n"
     ]
    }
   ],
   "source": [
    "clf = GaussianNB()\n",
    "clf.fit(X_train, Y_train)\n",
    "predictions = clf.predict(X_test)\n",
    "accuracy = accuracy_score(Y_test, predictions)\n",
    "print('Accuracy for predicting Time of Day (Gaussian Naive Bayes):', accuracy)"
   ]
  },
  {
   "cell_type": "code",
   "execution_count": 97,
   "metadata": {},
   "outputs": [
    {
     "name": "stdout",
     "output_type": "stream",
     "text": [
      "              precision    recall  f1-score   support\n",
      "\n",
      "           0       0.58      0.98      0.73      2365\n",
      "           1       0.57      0.03      0.06      1721\n",
      "\n",
      "   micro avg       0.58      0.58      0.58      4086\n",
      "   macro avg       0.58      0.51      0.40      4086\n",
      "weighted avg       0.58      0.58      0.45      4086\n",
      "\n"
     ]
    }
   ],
   "source": [
    "classificationReport = classification_report(Y_test, predictions)\n",
    "print(classificationReport)"
   ]
  }
 ],
 "metadata": {
  "kernelspec": {
   "display_name": "Python 3",
   "language": "python",
   "name": "python3"
  },
  "language_info": {
   "codemirror_mode": {
    "name": "ipython",
    "version": 3
   },
   "file_extension": ".py",
   "mimetype": "text/x-python",
   "name": "python",
   "nbconvert_exporter": "python",
   "pygments_lexer": "ipython3",
   "version": "3.7.0"
  }
 },
 "nbformat": 4,
 "nbformat_minor": 2
}
