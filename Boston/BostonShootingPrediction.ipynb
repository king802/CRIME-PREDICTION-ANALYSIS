{
 "cells": [
  {
   "cell_type": "markdown",
   "metadata": {},
   "source": [
    "# Shooting Prediction"
   ]
  },
  {
   "cell_type": "code",
   "execution_count": 20,
   "metadata": {},
   "outputs": [],
   "source": [
    "import numpy as np \n",
    "import pandas as pd \n",
    "import matplotlib.pyplot as plt\n",
    "%matplotlib inline\n",
    "\n",
    "#sklearn imports:\n",
    "from sklearn.tree import DecisionTreeClassifier\n",
    "from sklearn.tree import ExtraTreeClassifier\n",
    "from sklearn.ensemble import RandomForestClassifier\n",
    "from sklearn.neighbors import KNeighborsClassifier\n",
    "from sklearn.naive_bayes import GaussianNB\n",
    "\n",
    "# Evaluation\n",
    "from sklearn.model_selection import cross_val_predict\n",
    "from sklearn.model_selection import StratifiedKFold\n",
    "from sklearn.metrics import log_loss, accuracy_score\n",
    "import scikitplot as skplt\n",
    "from sklearn.metrics import classification_report\n",
    "import warnings\n",
    "warnings.filterwarnings('ignore')"
   ]
  },
  {
   "cell_type": "code",
   "execution_count": 21,
   "metadata": {},
   "outputs": [],
   "source": [
    "# Import the dataset\n",
    "df = pd.read_csv('boston-crime.csv')"
   ]
  },
  {
   "cell_type": "code",
   "execution_count": 22,
   "metadata": {},
   "outputs": [
    {
     "data": {
      "text/html": [
       "<div>\n",
       "<style scoped>\n",
       "    .dataframe tbody tr th:only-of-type {\n",
       "        vertical-align: middle;\n",
       "    }\n",
       "\n",
       "    .dataframe tbody tr th {\n",
       "        vertical-align: top;\n",
       "    }\n",
       "\n",
       "    .dataframe thead th {\n",
       "        text-align: right;\n",
       "    }\n",
       "</style>\n",
       "<table border=\"1\" class=\"dataframe\">\n",
       "  <thead>\n",
       "    <tr style=\"text-align: right;\">\n",
       "      <th></th>\n",
       "      <th>Incident Number</th>\n",
       "      <th>Offense Type</th>\n",
       "      <th>Offense Description</th>\n",
       "      <th>District</th>\n",
       "      <th>Reporting Area</th>\n",
       "      <th>Shooting</th>\n",
       "      <th>Date</th>\n",
       "      <th>Year</th>\n",
       "      <th>Month</th>\n",
       "      <th>Day of Week</th>\n",
       "      <th>Hour</th>\n",
       "      <th>UCR Offense Level</th>\n",
       "      <th>Street</th>\n",
       "      <th>Latitude</th>\n",
       "      <th>Longitude</th>\n",
       "      <th>Coordinates</th>\n",
       "      <th>Is Dark</th>\n",
       "    </tr>\n",
       "  </thead>\n",
       "  <tbody>\n",
       "    <tr>\n",
       "      <th>0</th>\n",
       "      <td>I192060182</td>\n",
       "      <td>43</td>\n",
       "      <td>155</td>\n",
       "      <td>8</td>\n",
       "      <td>120</td>\n",
       "      <td>0</td>\n",
       "      <td>2019-08-02 21:59:00</td>\n",
       "      <td>2019</td>\n",
       "      <td>8</td>\n",
       "      <td>0</td>\n",
       "      <td>21</td>\n",
       "      <td>2</td>\n",
       "      <td>4059</td>\n",
       "      <td>42.352175</td>\n",
       "      <td>-71.049134</td>\n",
       "      <td>(42.35217524, -71.04913425)</td>\n",
       "      <td>1</td>\n",
       "    </tr>\n",
       "    <tr>\n",
       "      <th>1</th>\n",
       "      <td>I192060181</td>\n",
       "      <td>61</td>\n",
       "      <td>20</td>\n",
       "      <td>9</td>\n",
       "      <td>819</td>\n",
       "      <td>0</td>\n",
       "      <td>2019-08-02 21:15:00</td>\n",
       "      <td>2019</td>\n",
       "      <td>8</td>\n",
       "      <td>0</td>\n",
       "      <td>21</td>\n",
       "      <td>3</td>\n",
       "      <td>1434</td>\n",
       "      <td>42.338696</td>\n",
       "      <td>-71.071399</td>\n",
       "      <td>(42.33869635, -71.07139879)</td>\n",
       "      <td>1</td>\n",
       "    </tr>\n",
       "    <tr>\n",
       "      <th>2</th>\n",
       "      <td>I192060181</td>\n",
       "      <td>46</td>\n",
       "      <td>121</td>\n",
       "      <td>9</td>\n",
       "      <td>819</td>\n",
       "      <td>0</td>\n",
       "      <td>2019-08-02 21:15:00</td>\n",
       "      <td>2019</td>\n",
       "      <td>8</td>\n",
       "      <td>0</td>\n",
       "      <td>21</td>\n",
       "      <td>2</td>\n",
       "      <td>1434</td>\n",
       "      <td>42.338696</td>\n",
       "      <td>-71.071399</td>\n",
       "      <td>(42.33869635, -71.07139879)</td>\n",
       "      <td>1</td>\n",
       "    </tr>\n",
       "    <tr>\n",
       "      <th>3</th>\n",
       "      <td>I192060180</td>\n",
       "      <td>61</td>\n",
       "      <td>20</td>\n",
       "      <td>6</td>\n",
       "      <td>382</td>\n",
       "      <td>0</td>\n",
       "      <td>2019-08-02 20:44:00</td>\n",
       "      <td>2019</td>\n",
       "      <td>8</td>\n",
       "      <td>0</td>\n",
       "      <td>20</td>\n",
       "      <td>3</td>\n",
       "      <td>4138</td>\n",
       "      <td>42.295977</td>\n",
       "      <td>-71.079340</td>\n",
       "      <td>(42.29597658, -71.07933990)</td>\n",
       "      <td>1</td>\n",
       "    </tr>\n",
       "    <tr>\n",
       "      <th>4</th>\n",
       "      <td>I192060179</td>\n",
       "      <td>63</td>\n",
       "      <td>230</td>\n",
       "      <td>0</td>\n",
       "      <td>765</td>\n",
       "      <td>0</td>\n",
       "      <td>2019-08-02 20:51:00</td>\n",
       "      <td>2019</td>\n",
       "      <td>8</td>\n",
       "      <td>0</td>\n",
       "      <td>20</td>\n",
       "      <td>3</td>\n",
       "      <td>398</td>\n",
       "      <td>42.336267</td>\n",
       "      <td>-71.149503</td>\n",
       "      <td>(42.33626664, -71.14950271)</td>\n",
       "      <td>1</td>\n",
       "    </tr>\n",
       "  </tbody>\n",
       "</table>\n",
       "</div>"
      ],
      "text/plain": [
       "  Incident Number  Offense Type  Offense Description  District  \\\n",
       "0      I192060182            43                  155         8   \n",
       "1      I192060181            61                   20         9   \n",
       "2      I192060181            46                  121         9   \n",
       "3      I192060180            61                   20         6   \n",
       "4      I192060179            63                  230         0   \n",
       "\n",
       "   Reporting Area  Shooting                 Date  Year  Month  Day of Week  \\\n",
       "0             120         0  2019-08-02 21:59:00  2019      8            0   \n",
       "1             819         0  2019-08-02 21:15:00  2019      8            0   \n",
       "2             819         0  2019-08-02 21:15:00  2019      8            0   \n",
       "3             382         0  2019-08-02 20:44:00  2019      8            0   \n",
       "4             765         0  2019-08-02 20:51:00  2019      8            0   \n",
       "\n",
       "   Hour  UCR Offense Level  Street   Latitude  Longitude  \\\n",
       "0    21                  2    4059  42.352175 -71.049134   \n",
       "1    21                  3    1434  42.338696 -71.071399   \n",
       "2    21                  2    1434  42.338696 -71.071399   \n",
       "3    20                  3    4138  42.295977 -71.079340   \n",
       "4    20                  3     398  42.336267 -71.149503   \n",
       "\n",
       "                   Coordinates  Is Dark  \n",
       "0  (42.35217524, -71.04913425)        1  \n",
       "1  (42.33869635, -71.07139879)        1  \n",
       "2  (42.33869635, -71.07139879)        1  \n",
       "3  (42.29597658, -71.07933990)        1  \n",
       "4  (42.33626664, -71.14950271)        1  "
      ]
     },
     "execution_count": 22,
     "metadata": {},
     "output_type": "execute_result"
    }
   ],
   "source": [
    "# Reference: https://www.kaggle.com/getting-started/27270\n",
    "# Numerically encoding features\n",
    "from sklearn.preprocessing import LabelEncoder\n",
    "\n",
    "df['Offense Type'] = LabelEncoder().fit_transform(df['Offense Type'])\n",
    "\n",
    "df['Offense Description'] = LabelEncoder().fit_transform(df['Offense Description'])\n",
    "\n",
    "df['District'] = LabelEncoder().fit_transform(df['District'].astype(str))\n",
    "df['District'] = LabelEncoder().fit_transform(df['District'])\n",
    "\n",
    "df['Reporting Area'] = LabelEncoder().fit_transform(df['Reporting Area'].astype(str))\n",
    "\n",
    "df['Day of Week'] = LabelEncoder().fit_transform(df['Day of Week'])\n",
    "\n",
    "df['UCR Offense Level'] = LabelEncoder().fit_transform(df['UCR Offense Level'].astype(str))\n",
    "df['UCR Offense Level'] = LabelEncoder().fit_transform(df['UCR Offense Level'])\n",
    "\n",
    "df['Street'] = LabelEncoder().fit_transform(df['Street'].astype(str))\n",
    "df['Street'] = LabelEncoder().fit_transform(df['Street'])\n",
    "df.head()"
   ]
  },
  {
   "cell_type": "code",
   "execution_count": 23,
   "metadata": {},
   "outputs": [],
   "source": [
    "def evaluate_features(X, y, key=0):\n",
    "    \"\"\"\n",
    "    General helper function for evaluating effectiveness of passed features in ML model\n",
    "\n",
    "    Prints out Log loss, accuracy, and confusion matrix with 3-fold stratified cross-validation\n",
    "\n",
    "    Parameters\n",
    "    ----------\n",
    "    X : Features array\n",
    "\n",
    "    y : Labels array\n",
    "\n",
    "    key: 0 = DecisionTreeClassifier (Default)\n",
    "         1 = ExtraTreeClassifier\n",
    "         2 = RandomForestClassifier\n",
    "         3 = KNeighborsClassifier\n",
    "         4 = GaussianNB\n",
    "    \"\"\"\n",
    "\n",
    "    clf = [DecisionTreeClassifier(),\n",
    "           ExtraTreeClassifier(),\n",
    "           RandomForestClassifier(),\n",
    "           KNeighborsClassifier(),\n",
    "           GaussianNB()]\n",
    "    \n",
    "    clf_names = ['DecisionTreeClassifier',\n",
    "                 'ExtraTreeClassifier',\n",
    "                 'RandomForestClassifier', \n",
    "                 'KNeighborsClassifier',\n",
    "                 'GaussianNB']\n",
    "\n",
    "    probabilities = cross_val_predict(clf[key], X, y, cv=StratifiedKFold(n_splits=2, random_state=8),\n",
    "                                      n_jobs=-1, method='predict_proba', verbose=2)\n",
    "    predicted_indices = np.argmax(probabilities, axis=1)\n",
    "    classes = np.unique(y)\n",
    "    predicted = classes[predicted_indices]\n",
    "    print('Log loss: {}'.format(log_loss(y, probabilities)))\n",
    "    print('Accuracy: {}'.format(accuracy_score(y, predicted)))\n",
    "    title = \"Confusion Matrix for \" + labels.name + \" with \" + clf_names[key]\n",
    "    skplt.metrics.plot_confusion_matrix(y, predicted, normalize=True, figsize=(20,10), title=title)\n",
    "    \n",
    "    print(classification_report(y, predicted))\n",
    "    plt.show()"
   ]
  },
  {
   "cell_type": "code",
   "execution_count": 24,
   "metadata": {},
   "outputs": [],
   "source": [
    "df_for_model = df[['Offense Type', 'Offense Description',\n",
    "                   'District', 'Reporting Area', 'Month',\n",
    "                   'Year', 'Day of Week', 'Hour',\n",
    "                   'Is Dark', 'Street', 'UCR Offense Level']]\n",
    "\n",
    "labels = df['Shooting']"
   ]
  },
  {
   "cell_type": "markdown",
   "metadata": {},
   "source": [
    "## Decision Tree Classifier"
   ]
  },
  {
   "cell_type": "code",
   "execution_count": 25,
   "metadata": {},
   "outputs": [
    {
     "name": "stderr",
     "output_type": "stream",
     "text": [
      "[Parallel(n_jobs=-1)]: Using backend LokyBackend with 4 concurrent workers.\n",
      "[Parallel(n_jobs=-1)]: Done   2 out of   2 | elapsed:    3.9s finished\n"
     ]
    },
    {
     "name": "stdout",
     "output_type": "stream",
     "text": [
      "Log loss: 0.2580635495134546\n",
      "Accuracy: 0.992526571916752\n",
      "              precision    recall  f1-score   support\n",
      "\n",
      "           0       1.00      0.99      1.00    407195\n",
      "           1       0.13      0.24      0.17      1319\n",
      "\n",
      "   micro avg       0.99      0.99      0.99    408514\n",
      "   macro avg       0.56      0.62      0.58    408514\n",
      "weighted avg       0.99      0.99      0.99    408514\n",
      "\n"
     ]
    },
    {
     "data": {
      "image/png": "[encoded data removed]",
      "text/plain": [
       "<Figure size 1440x720 with 2 Axes>"
      ]
     },
     "metadata": {
      "needs_background": "light"
     },
     "output_type": "display_data"
    }
   ],
   "source": [
    "evaluate_features(df_for_model, labels)"
   ]
  },
  {
   "cell_type": "markdown",
   "metadata": {},
   "source": [
    "## Extra Tree Classifier"
   ]
  },
  {
   "cell_type": "code",
   "execution_count": 26,
   "metadata": {},
   "outputs": [
    {
     "name": "stderr",
     "output_type": "stream",
     "text": [
      "[Parallel(n_jobs=-1)]: Using backend LokyBackend with 4 concurrent workers.\n",
      "[Parallel(n_jobs=-1)]: Done   2 out of   2 | elapsed:    1.5s finished\n"
     ]
    },
    {
     "name": "stdout",
     "output_type": "stream",
     "text": [
      "Log loss: 0.20531986506214056\n",
      "Accuracy: 0.9940540593468032\n",
      "              precision    recall  f1-score   support\n",
      "\n",
      "           0       1.00      1.00      1.00    407195\n",
      "           1       0.12      0.13      0.13      1319\n",
      "\n",
      "   micro avg       0.99      0.99      0.99    408514\n",
      "   macro avg       0.56      0.57      0.56    408514\n",
      "weighted avg       0.99      0.99      0.99    408514\n",
      "\n"
     ]
    },
    {
     "data": {
      "image/png": "[encoded data removed]",
      "text/plain": [
       "<Figure size 1440x720 with 2 Axes>"
      ]
     },
     "metadata": {
      "needs_background": "light"
     },
     "output_type": "display_data"
    }
   ],
   "source": [
    "evaluate_features(df_for_model, labels, 1)"
   ]
  },
  {
   "cell_type": "markdown",
   "metadata": {},
   "source": [
    "## Random Forest Classifier"
   ]
  },
  {
   "cell_type": "code",
   "execution_count": 27,
   "metadata": {},
   "outputs": [
    {
     "name": "stderr",
     "output_type": "stream",
     "text": [
      "[Parallel(n_jobs=-1)]: Using backend LokyBackend with 4 concurrent workers.\n",
      "[Parallel(n_jobs=-1)]: Done   2 out of   2 | elapsed:    2.6s finished\n"
     ]
    },
    {
     "name": "stdout",
     "output_type": "stream",
     "text": [
      "Log loss: 0.056961045996541775\n",
      "Accuracy: 0.9968642445546542\n",
      "              precision    recall  f1-score   support\n",
      "\n",
      "           0       1.00      1.00      1.00    407195\n",
      "           1       0.58      0.11      0.18      1319\n",
      "\n",
      "   micro avg       1.00      1.00      1.00    408514\n",
      "   macro avg       0.79      0.55      0.59    408514\n",
      "weighted avg       1.00      1.00      1.00    408514\n",
      "\n"
     ]
    },
    {
     "data": {
      "image/png": "[encoded data removed]",
      "text/plain": [
       "<Figure size 1440x720 with 2 Axes>"
      ]
     },
     "metadata": {
      "needs_background": "light"
     },
     "output_type": "display_data"
    }
   ],
   "source": [
    "evaluate_features(df_for_model, labels, 2)"
   ]
  },
  {
   "cell_type": "markdown",
   "metadata": {},
   "source": [
    "## K-Nearest Neighbors Classifier"
   ]
  },
  {
   "cell_type": "code",
   "execution_count": 28,
   "metadata": {},
   "outputs": [
    {
     "name": "stderr",
     "output_type": "stream",
     "text": [
      "[Parallel(n_jobs=-1)]: Using backend LokyBackend with 4 concurrent workers.\n",
      "[Parallel(n_jobs=-1)]: Done   2 out of   2 | elapsed:    4.6s finished\n"
     ]
    },
    {
     "name": "stdout",
     "output_type": "stream",
     "text": [
      "Log loss: 0.09664075023301692\n",
      "Accuracy: 0.9965876322476096\n",
      "              precision    recall  f1-score   support\n",
      "\n",
      "           0       1.00      1.00      1.00    407195\n",
      "           1       0.07      0.00      0.01      1319\n",
      "\n",
      "   micro avg       1.00      1.00      1.00    408514\n",
      "   macro avg       0.53      0.50      0.50    408514\n",
      "weighted avg       0.99      1.00      1.00    408514\n",
      "\n"
     ]
    },
    {
     "data": {
      "image/png": "[encoded data removed]",
      "text/plain": [
       "<Figure size 1440x720 with 2 Axes>"
      ]
     },
     "metadata": {
      "needs_background": "light"
     },
     "output_type": "display_data"
    }
   ],
   "source": [
    "evaluate_features(df_for_model, labels, 3)"
   ]
  },
  {
   "cell_type": "markdown",
   "metadata": {},
   "source": [
    "## Gaussian NB Classifier"
   ]
  },
  {
   "cell_type": "code",
   "execution_count": 29,
   "metadata": {},
   "outputs": [
    {
     "name": "stderr",
     "output_type": "stream",
     "text": [
      "[Parallel(n_jobs=-1)]: Using backend LokyBackend with 4 concurrent workers.\n",
      "[Parallel(n_jobs=-1)]: Done   2 out of   2 | elapsed:    0.6s finished\n"
     ]
    },
    {
     "name": "stdout",
     "output_type": "stream",
     "text": [
      "Log loss: 0.02797287099127461\n",
      "Accuracy: 0.992465374503689\n",
      "              precision    recall  f1-score   support\n",
      "\n",
      "           0       1.00      1.00      1.00    407195\n",
      "           1       0.10      0.17      0.13      1319\n",
      "\n",
      "   micro avg       0.99      0.99      0.99    408514\n",
      "   macro avg       0.55      0.58      0.56    408514\n",
      "weighted avg       0.99      0.99      0.99    408514\n",
      "\n"
     ]
    },
    {
     "data": {
      "image/png": "[encoded data removed]",
      "text/plain": [
       "<Figure size 1440x720 with 2 Axes>"
      ]
     },
     "metadata": {
      "needs_background": "light"
     },
     "output_type": "display_data"
    }
   ],
   "source": [
    "evaluate_features(df_for_model, labels, 4)"
   ]
  }
 ],
 "metadata": {
  "kernelspec": {
   "display_name": "Python 3",
   "language": "python",
   "name": "python3"
  },
  "language_info": {
   "codemirror_mode": {
    "name": "ipython",
    "version": 3
   },
   "file_extension": ".py",
   "mimetype": "text/x-python",
   "name": "python",
   "nbconvert_exporter": "python",
   "pygments_lexer": "ipython3",
   "version": "3.7.0"
  }
 },
 "nbformat": 4,
 "nbformat_minor": 2
}
