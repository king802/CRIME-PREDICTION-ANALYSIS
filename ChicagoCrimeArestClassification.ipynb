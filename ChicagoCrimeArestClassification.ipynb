{
 "cells": [
  {
   "cell_type": "markdown",
   "metadata": {
    "pycharm": {
     "name": "#%% md\n"
    }
   },
   "source": [
    "# Prediction Modeling Based on Arrest feature"
   ]
  },
  {
   "cell_type": "code",
   "execution_count": 22,
   "metadata": {},
   "outputs": [],
   "source": [
    "import numpy as np \n",
    "import pandas as pd \n",
    "import matplotlib.pyplot as plt\n",
    "%matplotlib inline\n",
    "\n",
    "#sklearn imports:\n",
    "from sklearn.tree import DecisionTreeClassifier\n",
    "from sklearn.tree import ExtraTreeClassifier\n",
    "from sklearn.ensemble import RandomForestClassifier\n",
    "from sklearn.neighbors import KNeighborsClassifier\n",
    "from sklearn.naive_bayes import GaussianNB\n",
    "\n",
    "# Evaluation\n",
    "from sklearn.model_selection import cross_val_predict\n",
    "from sklearn.model_selection import StratifiedKFold\n",
    "from sklearn.metrics import log_loss, accuracy_score\n",
    "import scikitplot as skplt\n",
    "from sklearn.metrics import classification_report\n"
   ]
  },
  {
   "cell_type": "code",
   "execution_count": 23,
   "metadata": {
    "pycharm": {
     "name": "#%%\n"
    }
   },
   "outputs": [],
   "source": [
    "# Read in fresh cleaned dataset\n",
    "df = pd.read_csv('chicago_data_cleaned.csv')\n"
   ]
  },
  {
   "cell_type": "code",
   "execution_count": 24,
   "metadata": {},
   "outputs": [
    {
     "name": "stdout",
     "output_type": "stream",
     "text": [
      "<class 'pandas.core.frame.DataFrame'>\n",
      "RangeIndex: 4273756 entries, 0 to 4273755\n",
      "Data columns (total 15 columns):\n",
      "Date                    object\n",
      "ID                      int64\n",
      "Block                   int64\n",
      "Primary Type            int64\n",
      "Description             int64\n",
      "Location Description    int64\n",
      "Arrest                  bool\n",
      "Domestic                bool\n",
      "District                float64\n",
      "Year                    int64\n",
      "Latitude                float64\n",
      "Longitude               float64\n",
      "Month                   int64\n",
      "Day                     int64\n",
      "Hour                    int64\n",
      "dtypes: bool(2), float64(3), int64(9), object(1)\n",
      "memory usage: 432.0+ MB\n"
     ]
    }
   ],
   "source": [
    "df.info()\n"
   ]
  },
  {
   "cell_type": "code",
   "execution_count": 25,
   "metadata": {
    "pycharm": {
     "name": "#%%\n"
    }
   },
   "outputs": [
    {
     "data": {
      "text/html": [
       "<div>\n",
       "<style scoped>\n",
       "    .dataframe tbody tr th:only-of-type {\n",
       "        vertical-align: middle;\n",
       "    }\n",
       "\n",
       "    .dataframe tbody tr th {\n",
       "        vertical-align: top;\n",
       "    }\n",
       "\n",
       "    .dataframe thead th {\n",
       "        text-align: right;\n",
       "    }\n",
       "</style>\n",
       "<table border=\"1\" class=\"dataframe\">\n",
       "  <thead>\n",
       "    <tr style=\"text-align: right;\">\n",
       "      <th></th>\n",
       "      <th>Date</th>\n",
       "      <th>ID</th>\n",
       "      <th>Block</th>\n",
       "      <th>Primary Type</th>\n",
       "      <th>Description</th>\n",
       "      <th>Location Description</th>\n",
       "      <th>Arrest</th>\n",
       "      <th>Domestic</th>\n",
       "      <th>District</th>\n",
       "      <th>Year</th>\n",
       "      <th>Latitude</th>\n",
       "      <th>Longitude</th>\n",
       "      <th>Month</th>\n",
       "      <th>Day</th>\n",
       "      <th>Hour</th>\n",
       "    </tr>\n",
       "  </thead>\n",
       "  <tbody>\n",
       "    <tr>\n",
       "      <th>0</th>\n",
       "      <td>2006-04-02 13:00:00</td>\n",
       "      <td>4673626</td>\n",
       "      <td>23279</td>\n",
       "      <td>12</td>\n",
       "      <td>173</td>\n",
       "      <td>66</td>\n",
       "      <td>False</td>\n",
       "      <td>False</td>\n",
       "      <td>16.0</td>\n",
       "      <td>2006</td>\n",
       "      <td>41.981913</td>\n",
       "      <td>-87.771996</td>\n",
       "      <td>4</td>\n",
       "      <td>2</td>\n",
       "      <td>13</td>\n",
       "    </tr>\n",
       "    <tr>\n",
       "      <th>1</th>\n",
       "      <td>2006-02-26 13:40:48</td>\n",
       "      <td>4673627</td>\n",
       "      <td>26672</td>\n",
       "      <td>10</td>\n",
       "      <td>217</td>\n",
       "      <td>75</td>\n",
       "      <td>True</td>\n",
       "      <td>False</td>\n",
       "      <td>3.0</td>\n",
       "      <td>2006</td>\n",
       "      <td>41.775733</td>\n",
       "      <td>-87.611920</td>\n",
       "      <td>2</td>\n",
       "      <td>26</td>\n",
       "      <td>13</td>\n",
       "    </tr>\n",
       "    <tr>\n",
       "      <th>2</th>\n",
       "      <td>2006-01-08 23:16:00</td>\n",
       "      <td>4673628</td>\n",
       "      <td>6596</td>\n",
       "      <td>0</td>\n",
       "      <td>40</td>\n",
       "      <td>58</td>\n",
       "      <td>False</td>\n",
       "      <td>False</td>\n",
       "      <td>3.0</td>\n",
       "      <td>2006</td>\n",
       "      <td>41.769897</td>\n",
       "      <td>-87.593671</td>\n",
       "      <td>1</td>\n",
       "      <td>8</td>\n",
       "      <td>23</td>\n",
       "    </tr>\n",
       "  </tbody>\n",
       "</table>\n",
       "</div>"
      ],
      "text/plain": [
       "                  Date       ID  Block  Primary Type  Description  \\\n",
       "0  2006-04-02 13:00:00  4673626  23279            12          173   \n",
       "1  2006-02-26 13:40:48  4673627  26672            10          217   \n",
       "2  2006-01-08 23:16:00  4673628   6596             0           40   \n",
       "\n",
       "   Location Description  Arrest  Domestic  District  Year   Latitude  \\\n",
       "0                    66   False     False      16.0  2006  41.981913   \n",
       "1                    75    True     False       3.0  2006  41.775733   \n",
       "2                    58   False     False       3.0  2006  41.769897   \n",
       "\n",
       "   Longitude  Month  Day  Hour  \n",
       "0 -87.771996      4    2    13  \n",
       "1 -87.611920      2   26    13  \n",
       "2 -87.593671      1    8    23  "
      ]
     },
     "execution_count": 25,
     "metadata": {},
     "output_type": "execute_result"
    }
   ],
   "source": [
    "df.head(3)"
   ]
  },
  {
   "cell_type": "code",
   "execution_count": 26,
   "metadata": {
    "pycharm": {
     "name": "#%%\n"
    }
   },
   "outputs": [],
   "source": [
    "df_for_model = df.drop(['ID','Arrest', 'Latitude', 'Longitude', 'Date'], axis=1)\n",
    "\n",
    "labels = df['Arrest']"
   ]
  },
  {
   "cell_type": "code",
   "execution_count": 27,
   "metadata": {
    "pycharm": {
     "name": "#%%\n"
    }
   },
   "outputs": [
    {
     "name": "stdout",
     "output_type": "stream",
     "text": [
      "<class 'pandas.core.frame.DataFrame'>\n",
      "RangeIndex: 4273756 entries, 0 to 4273755\n",
      "Data columns (total 10 columns):\n",
      "Block                   int64\n",
      "Primary Type            int64\n",
      "Description             int64\n",
      "Location Description    int64\n",
      "Domestic                bool\n",
      "District                float64\n",
      "Year                    int64\n",
      "Month                   int64\n",
      "Day                     int64\n",
      "Hour                    int64\n",
      "dtypes: bool(1), float64(1), int64(8)\n",
      "memory usage: 297.5 MB\n"
     ]
    }
   ],
   "source": [
    "df_for_model.info()"
   ]
  },
  {
   "cell_type": "code",
   "execution_count": 28,
   "metadata": {
    "pycharm": {
     "name": "#%%\n"
    }
   },
   "outputs": [],
   "source": [
    "def evaluate_features(X, y, key=0):\n",
    "    \"\"\"\n",
    "    General helper function for evaluating effectiveness of passed features in ML model\n",
    "\n",
    "    Prints out Log loss, accuracy, and confusion matrix with 3-fold stratified cross-validation\n",
    "\n",
    "    Parameters\n",
    "    ----------\n",
    "    X : Features array\n",
    "\n",
    "    y : Labels array\n",
    "\n",
    "    key: 0 = DecisionTreeClassifier (Default)\n",
    "         1 = ExtraTreeClassifier\n",
    "         2 = RandomForestClassifier\n",
    "         3 = KNeighborsClassifier\n",
    "         4 = GaussianNB\n",
    "    \"\"\"\n",
    "\n",
    "    clf = [DecisionTreeClassifier(),\n",
    "           ExtraTreeClassifier(),\n",
    "           RandomForestClassifier(),\n",
    "           KNeighborsClassifier(),\n",
    "           GaussianNB()]\n",
    "    \n",
    "    clf_names = ['DecisionTreeClassifier',\n",
    "                 'ExtraTreeClassifier',\n",
    "                 'RandomForestClassifier', \n",
    "                 'KNeighborsClassifier',\n",
    "                 'GaussianNB']\n",
    "\n",
    "    probabilities = cross_val_predict(clf[key], X, y, cv=StratifiedKFold(n_splits=2, random_state=8),\n",
    "                                      n_jobs=-1, method='predict_proba', verbose=2)\n",
    "    predicted_indices = np.argmax(probabilities, axis=1)\n",
    "    classes = np.unique(y)\n",
    "    predicted = classes[predicted_indices]\n",
    "    print('Log loss: {}'.format(log_loss(y, probabilities)))\n",
    "    print('Accuracy: {}'.format(accuracy_score(y, predicted)))\n",
    "    title = \"Confusion Matrix for \" + labels.name + \" with \" + clf_names[key]\n",
    "    skplt.metrics.plot_confusion_matrix(y, predicted, normalize=True, figsize=(20,10), title=title)\n",
    "    \n",
    "    print(classification_report(y, predicted))\n",
    "    plt.show()"
   ]
  },
  {
   "cell_type": "markdown",
   "metadata": {},
   "source": [
    "## DecisionTreeClassifier:"
   ]
  },
  {
   "cell_type": "code",
   "execution_count": 29,
   "metadata": {
    "pycharm": {
     "name": "#%%\n"
    }
   },
   "outputs": [
    {
     "name": "stderr",
     "output_type": "stream",
     "text": [
      "[Parallel(n_jobs=-1)]: Using backend LokyBackend with 8 concurrent workers.\n",
      "[Parallel(n_jobs=-1)]: Done   2 out of   2 | elapsed:   40.5s finished\n"
     ]
    },
    {
     "name": "stdout",
     "output_type": "stream",
     "text": [
      "Log loss: 10.960998141585346\n",
      "Accuracy: 0.6826274125148932\n",
      "              precision    recall  f1-score   support\n",
      "\n",
      "       False       0.80      0.75      0.77   3083199\n",
      "        True       0.44      0.51      0.47   1190557\n",
      "\n",
      "   micro avg       0.68      0.68      0.68   4273756\n",
      "   macro avg       0.62      0.63      0.62   4273756\n",
      "weighted avg       0.70      0.68      0.69   4273756\n",
      "\n"
     ]
    },
    {
     "data": {
      "image/png": "[encoded data removed]",
      "text/plain": [
       "<Figure size 1440x720 with 2 Axes>"
      ]
     },
     "metadata": {
      "needs_background": "light"
     },
     "output_type": "display_data"
    }
   ],
   "source": [
    "evaluate_features(df_for_model, labels)"
   ]
  },
  {
   "cell_type": "markdown",
   "metadata": {
    "pycharm": {
     "name": "#%% md\n"
    }
   },
   "source": [
    "## ExtraTreeClassifier:"
   ]
  },
  {
   "cell_type": "code",
   "execution_count": 30,
   "metadata": {
    "pycharm": {
     "name": "#%%\n"
    }
   },
   "outputs": [
    {
     "name": "stderr",
     "output_type": "stream",
     "text": [
      "[Parallel(n_jobs=-1)]: Using backend LokyBackend with 8 concurrent workers.\n",
      "[Parallel(n_jobs=-1)]: Done   2 out of   2 | elapsed:   17.7s finished\n"
     ]
    },
    {
     "name": "stdout",
     "output_type": "stream",
     "text": [
      "Log loss: 10.85734955904814\n",
      "Accuracy: 0.6856081629367704\n",
      "              precision    recall  f1-score   support\n",
      "\n",
      "       False       0.83      0.71      0.77   3083199\n",
      "        True       0.45      0.62      0.52   1190557\n",
      "\n",
      "   micro avg       0.69      0.69      0.69   4273756\n",
      "   macro avg       0.64      0.66      0.64   4273756\n",
      "weighted avg       0.72      0.69      0.70   4273756\n",
      "\n"
     ]
    },
    {
     "data": {
      "image/png": "[encoded data removed]",
      "text/plain": [
       "<Figure size 1440x720 with 2 Axes>"
      ]
     },
     "metadata": {
      "needs_background": "light"
     },
     "output_type": "display_data"
    }
   ],
   "source": [
    "evaluate_features(df_for_model, labels, 1)"
   ]
  },
  {
   "cell_type": "markdown",
   "metadata": {},
   "source": [
    "## RandomForestClassifier:"
   ]
  },
  {
   "cell_type": "code",
   "execution_count": 31,
   "metadata": {
    "pycharm": {
     "name": "#%%\n"
    }
   },
   "outputs": [
    {
     "name": "stderr",
     "output_type": "stream",
     "text": [
      "[Parallel(n_jobs=-1)]: Using backend LokyBackend with 8 concurrent workers.\n",
      "[Parallel(n_jobs=-1)]: Done   2 out of   2 | elapsed:  1.7min finished\n"
     ]
    },
    {
     "name": "stdout",
     "output_type": "stream",
     "text": [
      "Log loss: 1.5256187751983736\n",
      "Accuracy: 0.7297157348243559\n",
      "              precision    recall  f1-score   support\n",
      "\n",
      "       False       0.82      0.81      0.81   3083199\n",
      "        True       0.51      0.53      0.52   1190557\n",
      "\n",
      "   micro avg       0.73      0.73      0.73   4273756\n",
      "   macro avg       0.67      0.67      0.67   4273756\n",
      "weighted avg       0.73      0.73      0.73   4273756\n",
      "\n"
     ]
    },
    {
     "data": {
      "image/png": "[encoded data removed]",
      "text/plain": [
       "<Figure size 1440x720 with 2 Axes>"
      ]
     },
     "metadata": {
      "needs_background": "light"
     },
     "output_type": "display_data"
    }
   ],
   "source": [
    "evaluate_features(df_for_model,labels,2)"
   ]
  },
  {
   "cell_type": "markdown",
   "metadata": {},
   "source": [
    "## KNeighborsClassifier:"
   ]
  },
  {
   "cell_type": "code",
   "execution_count": 32,
   "metadata": {
    "pycharm": {
     "name": "#%%\n"
    }
   },
   "outputs": [
    {
     "name": "stderr",
     "output_type": "stream",
     "text": [
      "[Parallel(n_jobs=-1)]: Using backend LokyBackend with 8 concurrent workers.\n",
      "[Parallel(n_jobs=-1)]: Done   2 out of   2 | elapsed:  2.0min finished\n"
     ]
    },
    {
     "name": "stdout",
     "output_type": "stream",
     "text": [
      "Log loss: 2.0076820903488284\n",
      "Accuracy: 0.8340104114507239\n",
      "              precision    recall  f1-score   support\n",
      "\n",
      "       False       0.85      0.94      0.89   3083199\n",
      "        True       0.78      0.57      0.66   1190557\n",
      "\n",
      "   micro avg       0.83      0.83      0.83   4273756\n",
      "   macro avg       0.81      0.75      0.77   4273756\n",
      "weighted avg       0.83      0.83      0.83   4273756\n",
      "\n"
     ]
    },
    {
     "data": {
      "image/png": "[encoded data removed]",
      "text/plain": [
       "<Figure size 1440x720 with 2 Axes>"
      ]
     },
     "metadata": {
      "needs_background": "light"
     },
     "output_type": "display_data"
    }
   ],
   "source": [
    "evaluate_features(df_for_model,labels,3)"
   ]
  },
  {
   "cell_type": "markdown",
   "metadata": {},
   "source": [
    "## GaussianNB:"
   ]
  },
  {
   "cell_type": "code",
   "execution_count": 33,
   "metadata": {
    "pycharm": {
     "name": "#%%\n"
    }
   },
   "outputs": [
    {
     "name": "stderr",
     "output_type": "stream",
     "text": [
      "[Parallel(n_jobs=-1)]: Using backend LokyBackend with 8 concurrent workers.\n",
      "[Parallel(n_jobs=-1)]: Done   2 out of   2 | elapsed:   11.9s finished\n"
     ]
    },
    {
     "name": "stdout",
     "output_type": "stream",
     "text": [
      "Log loss: 0.6887720060709469\n",
      "Accuracy: 0.6944006630233452\n",
      "              precision    recall  f1-score   support\n",
      "\n",
      "       False       0.76      0.84      0.80   3083199\n",
      "        True       0.44      0.33      0.37   1190557\n",
      "\n",
      "   micro avg       0.69      0.69      0.69   4273756\n",
      "   macro avg       0.60      0.58      0.59   4273756\n",
      "weighted avg       0.67      0.69      0.68   4273756\n",
      "\n"
     ]
    },
    {
     "data": {
      "image/png": "[encoded data removed]",
      "text/plain": [
       "<Figure size 1440x720 with 2 Axes>"
      ]
     },
     "metadata": {
      "needs_background": "light"
     },
     "output_type": "display_data"
    }
   ],
   "source": [
    "evaluate_features(df_for_model,labels,4)"
   ]
  },
  {
   "cell_type": "code",
   "execution_count": null,
   "metadata": {
    "pycharm": {
     "name": "#%%\n"
    }
   },
   "outputs": [],
   "source": []
  }
 ],
 "metadata": {
  "kernelspec": {
   "display_name": "Python 3",
   "language": "python",
   "name": "python3"
  },
  "language_info": {
   "codemirror_mode": {
    "name": "ipython",
    "version": 3
   },
   "file_extension": ".py",
   "mimetype": "text/x-python",
   "name": "python",
   "nbconvert_exporter": "python",
   "pygments_lexer": "ipython3",
   "version": "3.7.0"
  },
  "pycharm": {
   "stem_cell": {
    "cell_type": "raw",
    "metadata": {
     "collapsed": false
    },
    "source": []
   }
  }
 },
 "nbformat": 4,
 "nbformat_minor": 1
}
