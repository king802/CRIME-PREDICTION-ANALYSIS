{
 "cells": [
  {
   "cell_type": "markdown",
   "metadata": {},
   "source": [
    "# Chicago Dataset Preprocessing"
   ]
  },
  {
   "cell_type": "code",
   "execution_count": 5,
   "metadata": {
    "pycharm": {
     "is_executing": false
    }
   },
   "outputs": [],
   "source": [
    "import numpy as np \n",
    "import pandas as pd \n",
    "import matplotlib.pyplot as plt\n",
    "%matplotlib inline\n",
    "from sklearn.preprocessing import LabelEncoder\n"
   ]
  },
  {
   "cell_type": "markdown",
   "metadata": {},
   "source": [
    "# Importing the Datasets\n"
   ]
  },
  {
   "cell_type": "code",
   "execution_count": 3,
   "metadata": {
    "pycharm": {
     "is_executing": false,
     "name": "#%%\n"
    }
   },
   "outputs": [
    {
     "name": "stderr",
     "output_type": "stream",
     "text": [
      "b'Skipping line 533719: expected 23 fields, saw 24\\n'\n",
      "b'Skipping line 1149094: expected 23 fields, saw 41\\n'\n"
     ]
    }
   ],
   "source": [
    "df_2005_to_2007 = pd.read_csv('crimes-in-chicago/Chicago_Crimes_2005_to_2007.csv', error_bad_lines=False)\n",
    "\n",
    "df_2008_to_2011 = pd.read_csv('crimes-in-chicago/Chicago_Crimes_2008_to_2011.csv', error_bad_lines=False)\n",
    "\n",
    "df_2012_to_2017 = pd.read_csv('crimes-in-chicago/Chicago_Crimes_2012_to_2017.csv', error_bad_lines=False)\n",
    "\n",
    "df_all_crimes = pd.concat([df_2005_to_2007, df_2008_to_2011, df_2012_to_2017], ignore_index=False, \n",
    "                          axis=0)\n",
    "\n",
    "\n",
    "del(df_2005_to_2007,df_2008_to_2011,df_2012_to_2017)"
   ]
  },
  {
   "cell_type": "markdown",
   "metadata": {},
   "source": [
    "# Preprocessing\n",
    "\n",
    "Now that we have the data lets dive into it and see what we have"
   ]
  },
  {
   "cell_type": "code",
   "execution_count": 4,
   "metadata": {
    "pycharm": {
     "is_executing": false,
     "name": "#%%\n"
    }
   },
   "outputs": [
    {
     "name": "stdout",
     "output_type": "stream",
     "text": [
      "<class 'pandas.core.frame.DataFrame'>\n",
      "Int64Index: 6017767 entries, 0 to 1456713\n",
      "Data columns (total 23 columns):\n",
      "Unnamed: 0              int64\n",
      "ID                      int64\n",
      "Case Number             object\n",
      "Date                    object\n",
      "Block                   object\n",
      "IUCR                    object\n",
      "Primary Type            object\n",
      "Description             object\n",
      "Location Description    object\n",
      "Arrest                  bool\n",
      "Domestic                bool\n",
      "Beat                    int64\n",
      "District                float64\n",
      "Ward                    float64\n",
      "Community Area          float64\n",
      "FBI Code                object\n",
      "X Coordinate            float64\n",
      "Y Coordinate            float64\n",
      "Year                    int64\n",
      "Updated On              object\n",
      "Latitude                float64\n",
      "Longitude               float64\n",
      "Location                object\n",
      "dtypes: bool(2), float64(7), int64(4), object(10)\n",
      "memory usage: 1021.5+ MB\n"
     ]
    }
   ],
   "source": [
    "df_all_crimes.info()"
   ]
  },
  {
   "cell_type": "code",
   "execution_count": 5,
   "metadata": {},
   "outputs": [
    {
     "data": {
      "text/html": [
       "<div>\n",
       "<style scoped>\n",
       "    .dataframe tbody tr th:only-of-type {\n",
       "        vertical-align: middle;\n",
       "    }\n",
       "\n",
       "    .dataframe tbody tr th {\n",
       "        vertical-align: top;\n",
       "    }\n",
       "\n",
       "    .dataframe thead th {\n",
       "        text-align: right;\n",
       "    }\n",
       "</style>\n",
       "<table border=\"1\" class=\"dataframe\">\n",
       "  <thead>\n",
       "    <tr style=\"text-align: right;\">\n",
       "      <th></th>\n",
       "      <th>Unnamed: 0</th>\n",
       "      <th>ID</th>\n",
       "      <th>Case Number</th>\n",
       "      <th>Date</th>\n",
       "      <th>Block</th>\n",
       "      <th>IUCR</th>\n",
       "      <th>Primary Type</th>\n",
       "      <th>Description</th>\n",
       "      <th>Location Description</th>\n",
       "      <th>Arrest</th>\n",
       "      <th>...</th>\n",
       "      <th>Ward</th>\n",
       "      <th>Community Area</th>\n",
       "      <th>FBI Code</th>\n",
       "      <th>X Coordinate</th>\n",
       "      <th>Y Coordinate</th>\n",
       "      <th>Year</th>\n",
       "      <th>Updated On</th>\n",
       "      <th>Latitude</th>\n",
       "      <th>Longitude</th>\n",
       "      <th>Location</th>\n",
       "    </tr>\n",
       "  </thead>\n",
       "  <tbody>\n",
       "    <tr>\n",
       "      <th>0</th>\n",
       "      <td>0</td>\n",
       "      <td>4673626</td>\n",
       "      <td>HM274058</td>\n",
       "      <td>04/02/2006 01:00:00 PM</td>\n",
       "      <td>055XX N MANGO AVE</td>\n",
       "      <td>2825</td>\n",
       "      <td>OTHER OFFENSE</td>\n",
       "      <td>HARASSMENT BY TELEPHONE</td>\n",
       "      <td>RESIDENCE</td>\n",
       "      <td>False</td>\n",
       "      <td>...</td>\n",
       "      <td>45.0</td>\n",
       "      <td>11.0</td>\n",
       "      <td>26</td>\n",
       "      <td>1136872.0</td>\n",
       "      <td>1936499.0</td>\n",
       "      <td>2006</td>\n",
       "      <td>04/15/2016 08:55:02 AM</td>\n",
       "      <td>41.981913</td>\n",
       "      <td>-87.771996</td>\n",
       "      <td>(41.981912692, -87.771996382)</td>\n",
       "    </tr>\n",
       "    <tr>\n",
       "      <th>1</th>\n",
       "      <td>1</td>\n",
       "      <td>4673627</td>\n",
       "      <td>HM202199</td>\n",
       "      <td>02/26/2006 01:40:48 PM</td>\n",
       "      <td>065XX S RHODES AVE</td>\n",
       "      <td>2017</td>\n",
       "      <td>NARCOTICS</td>\n",
       "      <td>MANU/DELIVER:CRACK</td>\n",
       "      <td>SIDEWALK</td>\n",
       "      <td>True</td>\n",
       "      <td>...</td>\n",
       "      <td>20.0</td>\n",
       "      <td>42.0</td>\n",
       "      <td>18</td>\n",
       "      <td>1181027.0</td>\n",
       "      <td>1861693.0</td>\n",
       "      <td>2006</td>\n",
       "      <td>04/15/2016 08:55:02 AM</td>\n",
       "      <td>41.775733</td>\n",
       "      <td>-87.611920</td>\n",
       "      <td>(41.775732538, -87.611919814)</td>\n",
       "    </tr>\n",
       "    <tr>\n",
       "      <th>2</th>\n",
       "      <td>2</td>\n",
       "      <td>4673628</td>\n",
       "      <td>HM113861</td>\n",
       "      <td>01/08/2006 11:16:00 PM</td>\n",
       "      <td>013XX E 69TH ST</td>\n",
       "      <td>051A</td>\n",
       "      <td>ASSAULT</td>\n",
       "      <td>AGGRAVATED: HANDGUN</td>\n",
       "      <td>OTHER</td>\n",
       "      <td>False</td>\n",
       "      <td>...</td>\n",
       "      <td>5.0</td>\n",
       "      <td>69.0</td>\n",
       "      <td>04A</td>\n",
       "      <td>1186023.0</td>\n",
       "      <td>1859609.0</td>\n",
       "      <td>2006</td>\n",
       "      <td>04/15/2016 08:55:02 AM</td>\n",
       "      <td>41.769897</td>\n",
       "      <td>-87.593671</td>\n",
       "      <td>(41.769897392, -87.593670899)</td>\n",
       "    </tr>\n",
       "  </tbody>\n",
       "</table>\n",
       "<p>3 rows × 23 columns</p>\n",
       "</div>"
      ],
      "text/plain": [
       "   Unnamed: 0       ID Case Number                    Date  \\\n",
       "0           0  4673626    HM274058  04/02/2006 01:00:00 PM   \n",
       "1           1  4673627    HM202199  02/26/2006 01:40:48 PM   \n",
       "2           2  4673628    HM113861  01/08/2006 11:16:00 PM   \n",
       "\n",
       "                Block  IUCR   Primary Type              Description  \\\n",
       "0   055XX N MANGO AVE  2825  OTHER OFFENSE  HARASSMENT BY TELEPHONE   \n",
       "1  065XX S RHODES AVE  2017      NARCOTICS       MANU/DELIVER:CRACK   \n",
       "2     013XX E 69TH ST  051A        ASSAULT      AGGRAVATED: HANDGUN   \n",
       "\n",
       "  Location Description  Arrest              ...                Ward  \\\n",
       "0            RESIDENCE   False              ...                45.0   \n",
       "1             SIDEWALK    True              ...                20.0   \n",
       "2                OTHER   False              ...                 5.0   \n",
       "\n",
       "   Community Area  FBI Code  X Coordinate  Y Coordinate  Year  \\\n",
       "0            11.0        26     1136872.0     1936499.0  2006   \n",
       "1            42.0        18     1181027.0     1861693.0  2006   \n",
       "2            69.0       04A     1186023.0     1859609.0  2006   \n",
       "\n",
       "               Updated On   Latitude  Longitude                       Location  \n",
       "0  04/15/2016 08:55:02 AM  41.981913 -87.771996  (41.981912692, -87.771996382)  \n",
       "1  04/15/2016 08:55:02 AM  41.775733 -87.611920  (41.775732538, -87.611919814)  \n",
       "2  04/15/2016 08:55:02 AM  41.769897 -87.593671  (41.769897392, -87.593670899)  \n",
       "\n",
       "[3 rows x 23 columns]"
      ]
     },
     "execution_count": 5,
     "metadata": {},
     "output_type": "execute_result"
    }
   ],
   "source": [
    "df_all_crimes.head(3)"
   ]
  },
  {
   "cell_type": "markdown",
   "metadata": {},
   "source": [
    "So from the a quick look at the dataset there are 6,017,767 Instances and 23 features. However there is a lot to do with these features and instances. First lets start with cleaning up unwanted instances and see if the size can be reducted. "
   ]
  },
  {
   "cell_type": "markdown",
   "metadata": {
    "pycharm": {
     "name": "#%% md\n"
    }
   },
   "source": [
    "## Instance Clean up\n",
    "\n",
    "Now lets clean up some of the data here with a few quick steps\n",
    "1. Remove duplicate instances\n",
    "2. Remove Null values\n"
   ]
  },
  {
   "cell_type": "code",
   "execution_count": 6,
   "metadata": {
    "pycharm": {
     "is_executing": false,
     "name": "#%%\n"
    }
   },
   "outputs": [
    {
     "name": "stdout",
     "output_type": "stream",
     "text": [
      "Instances before removing duplicates: 6017767\n",
      "Instances after removing duplicates: 4336556\n"
     ]
    }
   ],
   "source": [
    "#Remove duplicate instances\n",
    "print(\"Instances before removing duplicates: \" + str(len(df_all_crimes)))\n",
    "df_all_crimes.drop_duplicates(subset=['ID'], inplace=True)\n",
    "print(\"Instances after removing duplicates: \" + str(len(df_all_crimes)))"
   ]
  },
  {
   "cell_type": "markdown",
   "metadata": {},
   "source": [
    "With removing duplicate data from the dataset we were able to remove 1,681,211 instances that were repeated in the datset. That will make a big difference going foward.\n",
    "\n",
    "Next we need to remove null values from the dataset. \n"
   ]
  },
  {
   "cell_type": "code",
   "execution_count": 7,
   "metadata": {},
   "outputs": [
    {
     "name": "stdout",
     "output_type": "stream",
     "text": [
      "A count of features with the amount of null values they have\n"
     ]
    },
    {
     "data": {
      "text/plain": [
       "Unnamed: 0                  0\n",
       "ID                          0\n",
       "Case Number                 4\n",
       "Date                        0\n",
       "Block                       0\n",
       "IUCR                        0\n",
       "Primary Type                0\n",
       "Description                 0\n",
       "Location Description     1952\n",
       "Arrest                      0\n",
       "Domestic                    0\n",
       "Beat                        0\n",
       "District                   47\n",
       "Ward                       62\n",
       "Community Area           1130\n",
       "FBI Code                    0\n",
       "X Coordinate            60207\n",
       "Y Coordinate            60207\n",
       "Year                        0\n",
       "Updated On                  0\n",
       "Latitude                60207\n",
       "Longitude               60207\n",
       "Location                60207\n",
       "dtype: int64"
      ]
     },
     "execution_count": 7,
     "metadata": {},
     "output_type": "execute_result"
    }
   ],
   "source": [
    "print(\"A count of features with the amount of null values they have\")\n",
    "df_all_crimes.isnull().sum()"
   ]
  },
  {
   "cell_type": "code",
   "execution_count": 8,
   "metadata": {},
   "outputs": [
    {
     "name": "stdout",
     "output_type": "stream",
     "text": [
      "Instances after removing nulls: 4273756\n"
     ]
    }
   ],
   "source": [
    "df_all_crimes = df_all_crimes.dropna()\n",
    "print(\"Instances after removing nulls: \" + str(len(df_all_crimes)))"
   ]
  },
  {
   "cell_type": "markdown",
   "metadata": {},
   "source": [
    "taking care of the nulls removed 62,800 inscatnces from the datset leaving the dataset instances to be 4,273,756 over the given time period. \n",
    "\n",
    "Now that we have taken care of cleaning up the instances in the dataset its time to dive deeper into the features and pull out and organie the features we need\n",
    "## Feature Extraction\n",
    "\n",
    "First we will start by removing unwanted features that dont attribute any value to this dataset. "
   ]
  },
  {
   "cell_type": "code",
   "execution_count": 9,
   "metadata": {
    "pycharm": {
     "is_executing": false,
     "name": "#%%\n"
    }
   },
   "outputs": [
    {
     "name": "stdout",
     "output_type": "stream",
     "text": [
      "Number of features before:23\n",
      "Number of features after:12\n"
     ]
    }
   ],
   "source": [
    "print(\"Number of features before:\" + str(len(df_all_crimes.keys())))\n",
    "unwantedFeatures = ['Unnamed: 0', 'Case Number', 'IUCR', 'Beat', 'Ward', 'Community Area', 'FBI Code'\n",
    "                    ,'X Coordinate','Y Coordinate', 'Updated On', 'Location']\n",
    "df_all_crimes.drop(unwantedFeatures, axis=1, inplace=True)\n",
    "\n",
    "print(\"Number of features after:\" + str(len(df_all_crimes.keys())))\n"
   ]
  },
  {
   "cell_type": "markdown",
   "metadata": {},
   "source": [
    "Now that we have removed the unwanted features lets take a look at what the dataset looks like now and see if we need\n",
    " to do any work to the remaining features. "
   ]
  },
  {
   "cell_type": "code",
   "execution_count": 10,
   "metadata": {
    "pycharm": {
     "is_executing": false,
     "name": "#%%\n"
    }
   },
   "outputs": [
    {
     "name": "stdout",
     "output_type": "stream",
     "text": [
      "<class 'pandas.core.frame.DataFrame'>\n",
      "Int64Index: 4273756 entries, 0 to 1456713\n",
      "Data columns (total 12 columns):\n",
      "ID                      int64\n",
      "Date                    object\n",
      "Block                   object\n",
      "Primary Type            object\n",
      "Description             object\n",
      "Location Description    object\n",
      "Arrest                  bool\n",
      "Domestic                bool\n",
      "District                float64\n",
      "Year                    int64\n",
      "Latitude                float64\n",
      "Longitude               float64\n",
      "dtypes: bool(2), float64(3), int64(2), object(5)\n",
      "memory usage: 366.8+ MB\n"
     ]
    }
   ],
   "source": [
    "df_all_crimes.info()\n",
    "\n"
   ]
  },
  {
   "cell_type": "code",
   "execution_count": 11,
   "metadata": {},
   "outputs": [
    {
     "data": {
      "text/html": [
       "<div>\n",
       "<style scoped>\n",
       "    .dataframe tbody tr th:only-of-type {\n",
       "        vertical-align: middle;\n",
       "    }\n",
       "\n",
       "    .dataframe tbody tr th {\n",
       "        vertical-align: top;\n",
       "    }\n",
       "\n",
       "    .dataframe thead th {\n",
       "        text-align: right;\n",
       "    }\n",
       "</style>\n",
       "<table border=\"1\" class=\"dataframe\">\n",
       "  <thead>\n",
       "    <tr style=\"text-align: right;\">\n",
       "      <th></th>\n",
       "      <th>ID</th>\n",
       "      <th>Date</th>\n",
       "      <th>Block</th>\n",
       "      <th>Primary Type</th>\n",
       "      <th>Description</th>\n",
       "      <th>Location Description</th>\n",
       "      <th>Arrest</th>\n",
       "      <th>Domestic</th>\n",
       "      <th>District</th>\n",
       "      <th>Year</th>\n",
       "      <th>Latitude</th>\n",
       "      <th>Longitude</th>\n",
       "    </tr>\n",
       "  </thead>\n",
       "  <tbody>\n",
       "    <tr>\n",
       "      <th>0</th>\n",
       "      <td>4673626</td>\n",
       "      <td>04/02/2006 01:00:00 PM</td>\n",
       "      <td>055XX N MANGO AVE</td>\n",
       "      <td>OTHER OFFENSE</td>\n",
       "      <td>HARASSMENT BY TELEPHONE</td>\n",
       "      <td>RESIDENCE</td>\n",
       "      <td>False</td>\n",
       "      <td>False</td>\n",
       "      <td>16.0</td>\n",
       "      <td>2006</td>\n",
       "      <td>41.981913</td>\n",
       "      <td>-87.771996</td>\n",
       "    </tr>\n",
       "    <tr>\n",
       "      <th>1</th>\n",
       "      <td>4673627</td>\n",
       "      <td>02/26/2006 01:40:48 PM</td>\n",
       "      <td>065XX S RHODES AVE</td>\n",
       "      <td>NARCOTICS</td>\n",
       "      <td>MANU/DELIVER:CRACK</td>\n",
       "      <td>SIDEWALK</td>\n",
       "      <td>True</td>\n",
       "      <td>False</td>\n",
       "      <td>3.0</td>\n",
       "      <td>2006</td>\n",
       "      <td>41.775733</td>\n",
       "      <td>-87.611920</td>\n",
       "    </tr>\n",
       "    <tr>\n",
       "      <th>2</th>\n",
       "      <td>4673628</td>\n",
       "      <td>01/08/2006 11:16:00 PM</td>\n",
       "      <td>013XX E 69TH ST</td>\n",
       "      <td>ASSAULT</td>\n",
       "      <td>AGGRAVATED: HANDGUN</td>\n",
       "      <td>OTHER</td>\n",
       "      <td>False</td>\n",
       "      <td>False</td>\n",
       "      <td>3.0</td>\n",
       "      <td>2006</td>\n",
       "      <td>41.769897</td>\n",
       "      <td>-87.593671</td>\n",
       "    </tr>\n",
       "  </tbody>\n",
       "</table>\n",
       "</div>"
      ],
      "text/plain": [
       "        ID                    Date               Block   Primary Type  \\\n",
       "0  4673626  04/02/2006 01:00:00 PM   055XX N MANGO AVE  OTHER OFFENSE   \n",
       "1  4673627  02/26/2006 01:40:48 PM  065XX S RHODES AVE      NARCOTICS   \n",
       "2  4673628  01/08/2006 11:16:00 PM     013XX E 69TH ST        ASSAULT   \n",
       "\n",
       "               Description Location Description  Arrest  Domestic  District  \\\n",
       "0  HARASSMENT BY TELEPHONE            RESIDENCE   False     False      16.0   \n",
       "1       MANU/DELIVER:CRACK             SIDEWALK    True     False       3.0   \n",
       "2      AGGRAVATED: HANDGUN                OTHER   False     False       3.0   \n",
       "\n",
       "   Year   Latitude  Longitude  \n",
       "0  2006  41.981913 -87.771996  \n",
       "1  2006  41.775733 -87.611920  \n",
       "2  2006  41.769897 -87.593671  "
      ]
     },
     "execution_count": 11,
     "metadata": {},
     "output_type": "execute_result"
    }
   ],
   "source": [
    "df_all_crimes.head(3)"
   ]
  },
  {
   "cell_type": "markdown",
   "metadata": {},
   "source": [
    "### Date:\n",
    "\n",
    "Lets start by converting the data feature from an object to a datatime. We also want to pull out some of its featrues to do validation with. For instance we want to pull out the month, day and hour of the crime. After we have done that we will also index the dataset by the date so that we can use it to form some nice vizilization later on. "
   ]
  },
  {
   "cell_type": "code",
   "execution_count": 12,
   "metadata": {
    "pycharm": {
     "is_executing": false,
     "name": "#%%\n"
    }
   },
   "outputs": [],
   "source": [
    "df_all_crimes['Date'] = pd.to_datetime(df_all_crimes['Date'], format='%m/%d/%Y %I:%M:%S %p')\n",
    "\n"
   ]
  },
  {
   "cell_type": "code",
   "execution_count": 13,
   "metadata": {},
   "outputs": [],
   "source": [
    "df_all_crimes['Month'] = df_all_crimes['Date'].map(lambda x: x.month)\n",
    "df_all_crimes['Day'] = df_all_crimes['Date'].map(lambda x: x.day)\n",
    "df_all_crimes['Hour'] = df_all_crimes['Date'].map(lambda x: x.hour)"
   ]
  },
  {
   "cell_type": "code",
   "execution_count": 14,
   "metadata": {
    "scrolled": true
   },
   "outputs": [],
   "source": [
    "df_all_crimes.set_index('Date', inplace=True)"
   ]
  },
  {
   "cell_type": "code",
   "execution_count": 15,
   "metadata": {},
   "outputs": [],
   "source": [
    "# Exporting the data before any more changes are made for the prediction part.\n",
    "df_all_crimes.to_csv('Chicago_Crime_Apriori.csv')"
   ]
  },
  {
   "cell_type": "markdown",
   "metadata": {},
   "source": [
    "### Block\n",
    "\n",
    "Lets move on to the next feature that we have and that is an object. Lets start by looking at the unique values in block and seeing if we need to do any orginization to the features values. "
   ]
  },
  {
   "cell_type": "code",
   "execution_count": 16,
   "metadata": {},
   "outputs": [
    {
     "data": {
      "text/plain": [
       "33969"
      ]
     },
     "execution_count": 16,
     "metadata": {},
     "output_type": "execute_result"
    }
   ],
   "source": [
    "df_all_crimes['Block'].nunique()"
   ]
  },
  {
   "cell_type": "markdown",
   "metadata": {},
   "source": [
    "Okay block is a string value that represents the block the crime took place on. To use this in a prediction model we will have to convert it into a classification feature and assign it a look up index. We will use sklearns LabelEncoder here to convert Block.  "
   ]
  },
  {
   "cell_type": "code",
   "execution_count": 17,
   "metadata": {},
   "outputs": [],
   "source": [
    "df_all_crimes['Block'] = df_all_crimes['Block'].astype(str)\n",
    "\n",
    "df_all_crimes['Block'] = LabelEncoder().fit(df_all_crimes['Block']).transform(df_all_crimes['Block'])\n"
   ]
  },
  {
   "cell_type": "markdown",
   "metadata": {},
   "source": [
    "Okay perfect! Now block has been converted in to an int and can now be used in prediction models. \n",
    "\n",
    "### Primary Type\n",
    "\n",
    "Next lets take a look at primary type and see what we can clean up here. This feature we will use to predict on later so we want to make sure that it is well organized. "
   ]
  },
  {
   "cell_type": "code",
   "execution_count": 18,
   "metadata": {},
   "outputs": [
    {
     "data": {
      "text/plain": [
       "34"
      ]
     },
     "execution_count": 18,
     "metadata": {},
     "output_type": "execute_result"
    }
   ],
   "source": [
    "df_all_crimes['Primary Type'].nunique()"
   ]
  },
  {
   "cell_type": "code",
   "execution_count": 20,
   "metadata": {
    "pycharm": {
     "is_executing": false,
     "name": "#%%\n"
    }
   },
   "outputs": [
    {
     "data": {
      "text/plain": [
       "Text(0.5, 1.0, 'Number of Crimes per Primary Type')"
      ]
     },
     "execution_count": 20,
     "metadata": {},
     "output_type": "execute_result"
    },
    {
     "data": {
      "image/png": "[encoded data removed]",
      "text/plain": [
       "<Figure size 1080x720 with 1 Axes>"
      ]
     },
     "metadata": {
      "needs_background": "light"
     },
     "output_type": "display_data"
    }
   ],
   "source": [
    "plt.figure(figsize=(15,10))\n",
    "\n",
    "\n",
    "df_all_crimes.groupby([df_all_crimes['Primary Type']]).size().sort_values().plot(kind='bar')\n",
    "plt.title('Number of Crimes per Primary Type')"
   ]
  },
  {
   "cell_type": "markdown",
   "metadata": {},
   "source": [
    "As we can see from this the classification are really skewed here and it is top heavy. Lets do some Dimensinality \n",
    "reduction here and combine the 15 of the smaller count classes to be 1 class. That we we reduce the overall size of \n",
    "the classification while also giving our future prediction algorithms a better set of data to predict upon. "
   ]
  },
  {
   "cell_type": "code",
   "execution_count": 21,
   "metadata": {
    "pycharm": {
     "is_executing": false,
     "name": "#%%\n"
    }
   },
   "outputs": [],
   "source": [
    "primary_type_classes = df_all_crimes.groupby(['Primary Type']).size().reset_index()\n",
    "\n",
    "primary_type_classes = primary_type_classes.sort_values([0]).head(15)\n",
    "\n",
    "others = list(primary_type_classes['Primary Type'])\n",
    "\n",
    "df_all_crimes.loc[df_all_crimes['Primary Type'].isin(others), 'Primary Type'] = 'Others'"
   ]
  },
  {
   "cell_type": "code",
   "execution_count": 22,
   "metadata": {
    "pycharm": {
     "is_executing": false,
     "name": "#%%\n"
    }
   },
   "outputs": [
    {
     "data": {
      "text/plain": [
       "Text(0.5, 1.0, 'Number of Crimes per Primary Type')"
      ]
     },
     "execution_count": 22,
     "metadata": {},
     "output_type": "execute_result"
    },
    {
     "data": {
      "image/png": "[encoded data removed]",
      "text/plain": [
       "<Figure size 1080x720 with 1 Axes>"
      ]
     },
     "metadata": {
      "needs_background": "light"
     },
     "output_type": "display_data"
    }
   ],
   "source": [
    "plt.figure(figsize=(15,10))\n",
    "\n",
    "df_all_crimes.groupby([df_all_crimes['Primary Type']]).size().sort_values().plot(kind='bar')\n",
    "plt.title('Number of Crimes per Primary Type')\n"
   ]
  },
  {
   "cell_type": "markdown",
   "metadata": {},
   "source": [
    "There we go we have now reduced the size of the class and evened out the count for the classes. Lets now also export \n",
    "this to a CSV so that we can use it in some preidiction modeling. Now we need to also LabelEncode theses strings as well so that we can use them in prediction models. \n",
    "\n"
   ]
  },
  {
   "cell_type": "code",
   "execution_count": 23,
   "metadata": {},
   "outputs": [],
   "source": [
    "Primary_Type_Encoder = LabelEncoder()\n",
    "\n",
    "df_all_crimes['Primary Type'] = df_all_crimes['Primary Type'].astype(str)\n",
    "\n",
    "Primary_Type_Encoder.fit(df_all_crimes['Primary Type'])\n",
    "df_all_crimes['Primary Type'] = Primary_Type_Encoder.transform(df_all_crimes['Primary Type'])\n"
   ]
  },
  {
   "cell_type": "code",
   "execution_count": 24,
   "metadata": {},
   "outputs": [
    {
     "data": {
      "text/plain": [
       "Text(0.5, 1.0, 'Number of Crimes per Primary Type')"
      ]
     },
     "execution_count": 24,
     "metadata": {},
     "output_type": "execute_result"
    },
    {
     "data": {
      "image/png": "[encoded data removed]",
      "text/plain": [
       "<Figure size 1080x720 with 1 Axes>"
      ]
     },
     "metadata": {
      "needs_background": "light"
     },
     "output_type": "display_data"
    }
   ],
   "source": [
    "plt.figure(figsize=(15,10))\n",
    "\n",
    "df_all_crimes.groupby([df_all_crimes['Primary Type']]).size().sort_values().plot(kind='bar')\n",
    "plt.title('Number of Crimes per Primary Type')"
   ]
  },
  {
   "cell_type": "markdown",
   "metadata": {},
   "source": [
    "Perfect! We are all set now with primary type.\n",
    "\n",
    "### Description:\n",
    "Lets now take a look at the description feature. This is also a string feture that will have to be converted to a classification feature. "
   ]
  },
  {
   "cell_type": "code",
   "execution_count": null,
   "metadata": {
    "pycharm": {
     "is_executing": false,
     "name": "#%%\n"
    }
   },
   "outputs": [],
   "source": [
    "df_all_crimes['Description'].nunique()"
   ]
  },
  {
   "cell_type": "code",
   "execution_count": null,
   "metadata": {},
   "outputs": [],
   "source": [
    "df_all_crimes['Description'] = df_all_crimes['Description'].astype(str)\n",
    "\n",
    "df_all_crimes['Description'] = LabelEncoder().fit(df_all_crimes['Description']).transform(df_all_crimes['Description'])\n"
   ]
  },
  {
   "cell_type": "markdown",
   "metadata": {},
   "source": [
    "### Location Description\n",
    "\n",
    "Last feature thats datatype needs to be fixed. This like the other objects is a string that needs to be repreented as a classification feature."
   ]
  },
  {
   "cell_type": "code",
   "execution_count": null,
   "metadata": {},
   "outputs": [],
   "source": [
    "df_all_crimes['Location Description'].nunique()"
   ]
  },
  {
   "cell_type": "code",
   "execution_count": null,
   "metadata": {},
   "outputs": [],
   "source": [
    "plt.figure(figsize=(30,10))\n",
    "\n",
    "df_all_crimes.groupby([df_all_crimes['Location Description']]).size().sort_values().plot(kind='bar')\n",
    "plt.title('Number of Crimes per ')"
   ]
  },
  {
   "cell_type": "markdown",
   "metadata": {},
   "source": [
    "This feature is also heavily skewed so we will also combine lots of the lower terms here too. "
   ]
  },
  {
   "cell_type": "code",
   "execution_count": null,
   "metadata": {},
   "outputs": [],
   "source": [
    "primary_type_classes = df_all_crimes.groupby(['Location Description']).size().reset_index()\n",
    "\n",
    "primary_type_classes = primary_type_classes.sort_values([0]).head()\n",
    "\n",
    "others = list(primary_type_classes['Location Description'])\n",
    "\n",
    "df_all_crimes.loc[df_all_crimes['Location Description'].isin(others), 'Location Description'] = 'OTHER LOCATIONS'"
   ]
  },
  {
   "cell_type": "code",
   "execution_count": null,
   "metadata": {},
   "outputs": [],
   "source": [
    "plt.figure(figsize=(30,10))\n",
    "\n",
    "df_all_crimes.groupby([df_all_crimes['Location Description']]).size().sort_values().plot(kind='bar')\n",
    "plt.title('Number of Crimes per ')"
   ]
  },
  {
   "cell_type": "code",
   "execution_count": null,
   "metadata": {},
   "outputs": [],
   "source": [
    "Location_Description_Encoder = LabelEncoder()\n",
    "\n",
    "df_all_crimes['Location Description'] = df_all_crimes['Location Description'].astype(str)\n",
    "\n",
    "Primary_Type_Encoder.fit(df_all_crimes['Location Description'])\n",
    "df_all_crimes['Location Description'] = Primary_Type_Encoder.transform(df_all_crimes['Location Description'])"
   ]
  },
  {
   "cell_type": "markdown",
   "metadata": {},
   "source": [
    "### Review Data\n",
    "Now that we have finished leaning features and instances lets take a look at the data again"
   ]
  },
  {
   "cell_type": "code",
   "execution_count": null,
   "metadata": {},
   "outputs": [],
   "source": [
    "df_all_crimes.info()"
   ]
  },
  {
   "cell_type": "code",
   "execution_count": null,
   "metadata": {},
   "outputs": [],
   "source": [
    "df_all_crimes.head(4)"
   ]
  },
  {
   "cell_type": "markdown",
   "metadata": {},
   "source": [
    "## Export Clean Data\n",
    "Okay now that all of the features are fixed lets export the dataset so that we can now just call the cleaned version of the data!"
   ]
  },
  {
   "cell_type": "code",
   "execution_count": null,
   "metadata": {},
   "outputs": [],
   "source": [
    "df_all_crimes.to_csv('chicago_data_cleaned.csv')"
   ]
  }
 ],
 "metadata": {
  "kernelspec": {
   "display_name": "Python 3",
   "language": "python",
   "name": "python3"
  },
  "language_info": {
   "codemirror_mode": {
    "name": "ipython",
    "version": 3
   },
   "file_extension": ".py",
   "mimetype": "text/x-python",
   "name": "python",
   "nbconvert_exporter": "python",
   "pygments_lexer": "ipython3",
   "version": "3.7.0"
  },
  "pycharm": {
   "stem_cell": {
    "cell_type": "raw",
    "metadata": {
     "collapsed": false
    },
    "source": []
   }
  }
 },
 "nbformat": 4,
 "nbformat_minor": 1
}
