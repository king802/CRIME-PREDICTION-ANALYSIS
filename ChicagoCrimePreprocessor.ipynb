{
 "cells": [
  {
   "cell_type": "code",
   "execution_count": 28,
   "metadata": {
    "collapsed": true,
    "pycharm": {
     "is_executing": false
    }
   },
   "outputs": [],
   "source": [
    "import numpy as np \n",
    "import pandas as pd \n",
    "import matplotlib.pyplot as plt\n",
    "%matplotlib inline"
   ]
  },
  {
   "cell_type": "markdown",
   "source": [
    "The first thing that we need to do is to read in all of the csv and combine them into one dataset"
   ],
   "metadata": {
    "collapsed": false
   }
  },
  {
   "cell_type": "code",
   "execution_count": 29,
   "outputs": [
    {
     "name": "stderr",
     "text": [
      "b'Skipping line 1513591: expected 23 fields, saw 24\\n'\n",
      "b'Skipping line 533719: expected 23 fields, saw 24\\n'\n",
      "b'Skipping line 1149094: expected 23 fields, saw 41\\n'\n"
     ],
     "output_type": "stream"
    }
   ],
   "source": [
    "df_2001_to_2004 = pd.read_csv('crimes-in-chicago/Chicago_Crimes_2001_to_2004.csv', error_bad_lines=False)\n",
    "\n",
    "df_2005_to_2007 = pd.read_csv('crimes-in-chicago/Chicago_Crimes_2005_to_2007.csv', error_bad_lines=False)\n",
    "\n",
    "df_2008_to_2011 = pd.read_csv('crimes-in-chicago/Chicago_Crimes_2008_to_2011.csv', error_bad_lines=False)\n",
    "\n",
    "df_2012_to_2017 = pd.read_csv('crimes-in-chicago/Chicago_Crimes_2012_to_2017.csv', error_bad_lines=False)\n",
    "\n",
    "df_all_crimes = pd.concat([df_2001_to_2004, df_2005_to_2007, df_2008_to_2011, df_2012_to_2017], ignore_index=False, \n",
    "                          axis=0)\n",
    "\n",
    "\n",
    "del(df_2001_to_2004,df_2005_to_2007,df_2008_to_2011,df_2012_to_2017)"
   ],
   "metadata": {
    "collapsed": false,
    "pycharm": {
     "name": "#%%\n",
     "is_executing": false
    }
   }
  },
  {
   "cell_type": "markdown",
   "source": [
    "Now that we have read in all of the data from 2001 to 2018 lets now take a look at it and see what it consists of "
   ],
   "metadata": {
    "collapsed": false
   }
  },
  {
   "cell_type": "code",
   "execution_count": 30,
   "outputs": [
    {
     "name": "stdout",
     "text": [
      "<class 'pandas.core.frame.DataFrame'>\nInt64Index: 7941282 entries, 0 to 1456713\nData columns (total 23 columns):\nUnnamed: 0              int64\nID                      int64\nCase Number             object\nDate                    object\nBlock                   object\nIUCR                    object\nPrimary Type            object\nDescription             object\nLocation Description    object\nArrest                  bool\nDomestic                bool\nBeat                    int64\nDistrict                float64\nWard                    float64\nCommunity Area          float64\nFBI Code                object\nX Coordinate            float64\nY Coordinate            object\nYear                    float64\nUpdated On              object\nLatitude                object\nLongitude               float64\nLocation                object\ndtypes: bool(2), float64(6), int64(3), object(12)\nmemory usage: 1.3+ GB\n"
     ],
     "output_type": "stream"
    }
   ],
   "source": [
    "df_all_crimes.info()"
   ],
   "metadata": {
    "collapsed": false,
    "pycharm": {
     "name": "#%%\n",
     "is_executing": false
    }
   }
  },
  {
   "cell_type": "markdown",
   "source": [
    "Now lets clean up some of the data here with a few quick steps\n",
    "1. Remove duplicate instances\n",
    "2. Remove all unwanted features\n",
    "3. Clean up data types of wanted fields\n",
    "\n",
    "\n",
    "So the first step we are going to take is to remove any duplicate entries in the dataset. The unique identifier for \n",
    "this dataset is the 'ID' so we will remove any instances that have the same 'ID'."
   ],
   "metadata": {
    "collapsed": false,
    "pycharm": {
     "name": "#%% md\n"
    }
   }
  },
  {
   "cell_type": "code",
   "execution_count": 31,
   "outputs": [
    {
     "name": "stdout",
     "text": [
      "Instances before removing duplicates: 7941282\n",
      "Instances after removing duplicates: 6170812\n"
     ],
     "output_type": "stream"
    }
   ],
   "source": [
    "# 1. Remove duplicate instances\n",
    "print(\"Instances before removing duplicates: \" + str(len(df_all_crimes)))\n",
    "df_all_crimes.drop_duplicates(subset=['ID'], inplace=True)\n",
    "print(\"Instances after removing duplicates: \" + str(len(df_all_crimes)))"
   ],
   "metadata": {
    "collapsed": false,
    "pycharm": {
     "name": "#%%\n",
     "is_executing": false
    }
   }
  },
  {
   "cell_type": "markdown",
   "source": [
    "As you can see we were able to remove a lot of instances that were falsely entered. Now that we have succeed in \n",
    "getting only the instances that we need in the dataset now lets clean up the features. \n",
    "\n",
    "To clean up the features we will start by removing all of the features that are not need in the dataset. The include \n",
    "duplicate features and features that dont add value to the dataset. "
   ],
   "metadata": {
    "collapsed": false
   }
  },
  {
   "cell_type": "code",
   "execution_count": 32,
   "outputs": [
    {
     "name": "stdout",
     "text": [
      "Number of features before:23\n",
      "Number of features after:10\n"
     ],
     "output_type": "stream"
    }
   ],
   "source": [
    "print(\"Number of features before:\" + str(len(df_all_crimes.keys())))\n",
    "unwantedFeatures = ['ID','Unnamed: 0', 'Case Number', 'IUCR', 'Beat', 'Ward', 'Community Area', 'FBI Code','X '\n",
    "                                                                                                           'Coordinate',\n",
    "                    'Y Coordinate', 'Year', 'Updated On', 'Latitude', 'Longitude']\n",
    "df_all_crimes.drop(unwantedFeatures, axis=1, inplace=True)\n",
    "\n",
    "print(\"Number of features after:\" + str(len(df_all_crimes.keys())))\n"
   ],
   "metadata": {
    "collapsed": false,
    "pycharm": {
     "name": "#%%\n",
     "is_executing": false
    }
   }
  },
  {
   "cell_type": "markdown",
   "source": [
    "Now that we have removed the unwanted features lets take a look at what the dataset looks like now and see if we need\n",
    " to do any work to the remaining features. "
   ],
   "metadata": {
    "collapsed": false
   }
  },
  {
   "cell_type": "code",
   "execution_count": 33,
   "outputs": [
    {
     "name": "stdout",
     "text": [
      "<class 'pandas.core.frame.DataFrame'>\nInt64Index: 6170812 entries, 0 to 1456713\nData columns (total 10 columns):\nID                      int64\nDate                    object\nBlock                   object\nPrimary Type            object\nDescription             object\nLocation Description    object\nArrest                  bool\nDomestic                bool\nDistrict                float64\nLocation                object\ndtypes: bool(2), float64(1), int64(1), object(6)\nmemory usage: 435.5+ MB\n"
     ],
     "output_type": "stream"
    },
    {
     "data": {
      "text/plain": "        ID                    Date                Block  \\\n0  4786321  01/01/2004 12:01:00 AM    082XX S COLES AVE   \n1  4676906  03/01/2003 12:00:00 AM      004XX W 42ND PL   \n2  4789749  06/20/2004 11:00:00 AM  025XX N KIMBALL AVE   \n\n                 Primary Type                    Description  \\\n0                       THEFT  FINANCIAL ID THEFT: OVER $300   \n1               OTHER OFFENSE        HARASSMENT BY TELEPHONE   \n2  OFFENSE INVOLVING CHILDREN  AGG CRIM SEX ABUSE FAM MEMBER   \n\n  Location Description  Arrest  Domestic  District  \\\n0            RESIDENCE   False     False       4.0   \n1            RESIDENCE   False      True       9.0   \n2            RESIDENCE   False     False      14.0   \n\n                        Location  \n0                            NaN  \n1  (41.817229156, -87.637328162)  \n2                            NaN  ",
      "text/html": "<div>\n<style scoped>\n    .dataframe tbody tr th:only-of-type {\n        vertical-align: middle;\n    }\n\n    .dataframe tbody tr th {\n        vertical-align: top;\n    }\n\n    .dataframe thead th {\n        text-align: right;\n    }\n</style>\n<table border=\"1\" class=\"dataframe\">\n  <thead>\n    <tr style=\"text-align: right;\">\n      <th></th>\n      <th>ID</th>\n      <th>Date</th>\n      <th>Block</th>\n      <th>Primary Type</th>\n      <th>Description</th>\n      <th>Location Description</th>\n      <th>Arrest</th>\n      <th>Domestic</th>\n      <th>District</th>\n      <th>Location</th>\n    </tr>\n  </thead>\n  <tbody>\n    <tr>\n      <th>0</th>\n      <td>4786321</td>\n      <td>01/01/2004 12:01:00 AM</td>\n      <td>082XX S COLES AVE</td>\n      <td>THEFT</td>\n      <td>FINANCIAL ID THEFT: OVER $300</td>\n      <td>RESIDENCE</td>\n      <td>False</td>\n      <td>False</td>\n      <td>4.0</td>\n      <td>NaN</td>\n    </tr>\n    <tr>\n      <th>1</th>\n      <td>4676906</td>\n      <td>03/01/2003 12:00:00 AM</td>\n      <td>004XX W 42ND PL</td>\n      <td>OTHER OFFENSE</td>\n      <td>HARASSMENT BY TELEPHONE</td>\n      <td>RESIDENCE</td>\n      <td>False</td>\n      <td>True</td>\n      <td>9.0</td>\n      <td>(41.817229156, -87.637328162)</td>\n    </tr>\n    <tr>\n      <th>2</th>\n      <td>4789749</td>\n      <td>06/20/2004 11:00:00 AM</td>\n      <td>025XX N KIMBALL AVE</td>\n      <td>OFFENSE INVOLVING CHILDREN</td>\n      <td>AGG CRIM SEX ABUSE FAM MEMBER</td>\n      <td>RESIDENCE</td>\n      <td>False</td>\n      <td>False</td>\n      <td>14.0</td>\n      <td>NaN</td>\n    </tr>\n  </tbody>\n</table>\n</div>"
     },
     "metadata": {},
     "output_type": "execute_result",
     "execution_count": 33
    }
   ],
   "source": [
    "df_all_crimes.info()\n",
    "df_all_crimes.head(3)\n"
   ],
   "metadata": {
    "collapsed": false,
    "pycharm": {
     "name": "#%%\n",
     "is_executing": false
    }
   }
  },
  {
   "cell_type": "markdown",
   "source": [
    "So we can see now that our dataset is much cleaner but we are not quite down with it yet. Before we can continue to \n",
    "evaluate it we first have to change the 'Date' feature to be a data type of a Datetime. We also want to remove any \n",
    "null (Nan) values in our dataset. I am going to completly remove the record if it has a null value associated with it\n",
    ". This is a extremly large dataset and the exclusion of these records wont contribute to making the model inaccurate.  "
   ],
   "metadata": {
    "collapsed": false
   }
  },
  {
   "cell_type": "code",
   "execution_count": 34,
   "outputs": [
    {
     "name": "stdout",
     "text": [
      "<class 'pandas.core.frame.DataFrame'>\nDatetimeIndex: 6085064 entries, 2003-03-01 00:00:00 to 2016-05-03 23:38:00\nData columns (total 9 columns):\nID                      int64\nBlock                   object\nPrimary Type            object\nDescription             object\nLocation Description    object\nArrest                  bool\nDomestic                bool\nDistrict                float64\nLocation                object\ndtypes: bool(2), float64(1), int64(1), object(5)\nmemory usage: 383.0+ MB\n"
     ],
     "output_type": "stream"
    }
   ],
   "source": [
    "df_all_crimes['Date'] = pd.to_datetime(df_all_crimes['Date'], format='%m/%d/%Y %I:%M:%S %p')\n",
    "# Need to do this for plotting over years\n",
    "df_all_crimes.set_index('Date', inplace=True)\n",
    "\n",
    "df_all_crimes = df_all_crimes.dropna()\n",
    "df_all_crimes.info()"
   ],
   "metadata": {
    "collapsed": false,
    "pycharm": {
     "name": "#%%\n",
     "is_executing": false
    }
   }
  },
  {
   "cell_type": "markdown",
   "source": [
    "Okay there we go we have cleaned up our dataset and now we can start to look at the features and analysing how they \n",
    "interact with each other. \n",
    "\n",
    "But first lets export our cleaned up dataset so that we can use it in other notebooks. "
   ],
   "metadata": {
    "collapsed": false,
    "pycharm": {
     "name": "#%% md\n"
    }
   }
  },
  {
   "cell_type": "code",
   "execution_count": 35,
   "outputs": [],
   "source": [
    "df_all_crimes.to_csv('cleaned_chicago_crime.csv')\n"
   ],
   "metadata": {
    "collapsed": false,
    "pycharm": {
     "name": "#%%\n",
     "is_executing": false
    }
   }
  }
 ],
 "metadata": {
  "language_info": {
   "codemirror_mode": {
    "name": "ipython",
    "version": 2
   },
   "file_extension": ".py",
   "mimetype": "text/x-python",
   "name": "python",
   "nbconvert_exporter": "python",
   "pygments_lexer": "ipython2",
   "version": "2.7.6"
  },
  "kernelspec": {
   "name": "python3",
   "language": "python",
   "display_name": "Python 3"
  },
  "pycharm": {
   "stem_cell": {
    "cell_type": "raw",
    "source": [],
    "metadata": {
     "collapsed": false
    }
   }
  }
 },
 "nbformat": 4,
 "nbformat_minor": 0
}